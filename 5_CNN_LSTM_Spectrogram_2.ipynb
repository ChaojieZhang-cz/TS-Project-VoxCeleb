{
 "cells": [
  {
   "cell_type": "code",
   "execution_count": 1,
   "metadata": {},
   "outputs": [],
   "source": [
    "import warnings\n",
    "warnings.filterwarnings('ignore')\n",
    "\n",
    "import numpy as np\n",
    "import pandas as pd\n",
    "import os\n",
    "import torch\n",
    "import torch.nn as nn\n",
    "import torch.nn.functional as F\n",
    "from torch import optim\n",
    "import time\n",
    "from torch.utils.data import Dataset, DataLoader\n",
    "import torchaudio\n",
    "import torchvision.transforms as transforms\n",
    "import matplotlib.pyplot as plt\n",
    "import torchvision.models as models\n",
    "\n",
    "from sklearn.preprocessing import label_binarize\n",
    "from sklearn.utils.multiclass import unique_labels\n",
    "from sklearn.metrics import confusion_matrix\n",
    "from sklearn.metrics import roc_curve, auc\n",
    "from itertools import cycle"
   ]
  },
  {
   "cell_type": "code",
   "execution_count": 2,
   "metadata": {},
   "outputs": [],
   "source": [
    "device = torch.device('cuda')"
   ]
  },
  {
   "cell_type": "code",
   "execution_count": null,
   "metadata": {},
   "outputs": [],
   "source": []
  },
  {
   "cell_type": "code",
   "execution_count": 3,
   "metadata": {},
   "outputs": [],
   "source": [
    "def train_transform(sample,padding=200):\n",
    "    pad_num = np.random.randint(padding)\n",
    "    sample = torch.cat((torch.zeros((1,pad_num)),sample),-1)\n",
    "    specgram = torchaudio.transforms.Spectrogram()(sample)\n",
    "    specgram = (specgram+1e-10).log2()[0,:,:]\n",
    "    specgram = transforms.Normalize((0.5),(0.5))(specgram.unsqueeze(0)).squeeze(0)\n",
    "    specgram = torch.stack((specgram,specgram,specgram),dim=0)\n",
    "    return specgram\n",
    "\n",
    "def test_transform(sample):\n",
    "    specgram = torchaudio.transforms.Spectrogram()(sample)\n",
    "    specgram = (specgram+1e-10).log2()[0,:,:]\n",
    "    specgram = transforms.Normalize((0.5),(0.5))(specgram.unsqueeze(0)).squeeze(0)\n",
    "    specgram = torch.stack((specgram,specgram,specgram),dim=0)\n",
    "    return specgram"
   ]
  },
  {
   "cell_type": "code",
   "execution_count": 4,
   "metadata": {},
   "outputs": [
    {
     "data": {
      "text/plain": [
       "torch.Size([3, 201, 574])"
      ]
     },
     "execution_count": 4,
     "metadata": {},
     "output_type": "execute_result"
    }
   ],
   "source": [
    "a = torch.rand([1, 114561])\n",
    "train_transform(a).size()"
   ]
  },
  {
   "cell_type": "code",
   "execution_count": null,
   "metadata": {},
   "outputs": [],
   "source": []
  },
  {
   "cell_type": "code",
   "execution_count": 5,
   "metadata": {},
   "outputs": [],
   "source": [
    "class my_dataset(Dataset):\n",
    "    def __init__(self, df_path, train = False):\n",
    "        self.df = pd.read_csv(df_path)\n",
    "        self.train = train\n",
    "        \n",
    "    def __len__(self):\n",
    "        return len(self.df)\n",
    "    \n",
    "    def __getitem__(self,idx):\n",
    "        sample_1_name = self.df.iloc[idx]['sample 1']\n",
    "        sample_1_path = '/scratch/cz2064/myjupyter/Time_Series/Data/data_VoxCeleb/wav/'+sample_1_name\n",
    "        sample_1,_ = torchaudio.load(sample_1_path)\n",
    "        \n",
    "        sample_2_name = self.df.iloc[idx]['sample 2']\n",
    "        sample_2_path = '/scratch/cz2064/myjupyter/Time_Series/Data/data_VoxCeleb/wav/'+sample_2_name\n",
    "        sample_2,_ = torchaudio.load(sample_2_path)\n",
    "        \n",
    "        if self.train:\n",
    "            sample_1_tensor = train_transform(sample_1)\n",
    "            sample_2_tensor = train_transform(sample_2)\n",
    "        else:\n",
    "            sample_1_tensor = test_transform(sample_1)\n",
    "            sample_2_tensor = test_transform(sample_2)\n",
    "            \n",
    "            \n",
    "        label = self.df.loc[idx,'True or False']\n",
    "        \n",
    "        sample = (sample_1_tensor, sample_2_tensor, label)\n",
    "        return sample\n",
    "\n",
    "def pad_collate(batch):\n",
    "    (xx1,xx2, yy) = zip(*batch)\n",
    "    x1_lens = [len(x[0][0]) for x in xx1]\n",
    "    x2_lens = [len(x[0][0]) for x in xx2]\n",
    "    x1_max_len = np.max(x1_lens)\n",
    "    x2_max_len = np.max(x2_lens)\n",
    "    \n",
    "    xx1_new = torch.zeros([len(xx1),xx1[0].size(0),xx1[0].size(1),x1_max_len],dtype=torch.float)\n",
    "    for i in range(len(xx1)):\n",
    "        xx1_new[i,:,:,:len(xx1[i][0][0])] = xx1[i]\n",
    "        \n",
    "    xx2_new = torch.zeros([len(xx2),xx2[0].size(0),xx2[0].size(1),x2_max_len],dtype=torch.float)\n",
    "    for i in range(len(xx2)):\n",
    "        xx2_new[i,:,:,:len(xx2[i][0][0])] = xx2[i]\n",
    "    \n",
    "    yy_new = torch.tensor(yy, dtype=torch.long)\n",
    "    \n",
    "    sample = {'x1':xx1_new,'x2':xx2_new,'y':yy_new}\n",
    "    return sample"
   ]
  },
  {
   "cell_type": "code",
   "execution_count": 6,
   "metadata": {},
   "outputs": [],
   "source": [
    "train_df_path = '/scratch/cz2064/myjupyter/Time_Series/notebook/train.csv'\n",
    "val_df_path = '/scratch/cz2064/myjupyter/Time_Series/notebook/val.csv'\n",
    "test_df_path = '/scratch/cz2064/myjupyter/Time_Series/notebook/test.csv'\n",
    "BATCH_SIZE = 8\n",
    "train_sampler = torch.utils.data.sampler.RandomSampler(my_dataset(train_df_path,train = True)\\\n",
    "                                                       ,num_samples=50000,replacement=True)\n",
    "train_loader = DataLoader(my_dataset(train_df_path,train = True), batch_size=BATCH_SIZE, \\\n",
    "                          sampler = train_sampler,num_workers=16,collate_fn = pad_collate)\n",
    "\n",
    "val_loader = DataLoader(my_dataset(val_df_path), batch_size=BATCH_SIZE, shuffle=True,\\\n",
    "                        num_workers=16,collate_fn = pad_collate)\n",
    "\n",
    "test_loader = DataLoader(my_dataset(test_df_path), batch_size=1, shuffle=False,collate_fn = pad_collate)"
   ]
  },
  {
   "cell_type": "code",
   "execution_count": 7,
   "metadata": {},
   "outputs": [],
   "source": [
    "iter_ = iter(train_loader)"
   ]
  },
  {
   "cell_type": "code",
   "execution_count": 8,
   "metadata": {},
   "outputs": [
    {
     "data": {
      "text/plain": [
       "torch.Size([8, 3, 201, 1550])"
      ]
     },
     "execution_count": 8,
     "metadata": {},
     "output_type": "execute_result"
    }
   ],
   "source": [
    "sample_1 = next(iter_)['x1']\n",
    "sample_2 = next(iter_)['x2']\n",
    "sample_1.size()"
   ]
  },
  {
   "cell_type": "code",
   "execution_count": 9,
   "metadata": {},
   "outputs": [
    {
     "data": {
      "text/plain": [
       "tensor([0, 0, 0, 1, 0, 0, 1, 0])"
      ]
     },
     "execution_count": 9,
     "metadata": {},
     "output_type": "execute_result"
    }
   ],
   "source": [
    "next(iter_)['y']"
   ]
  },
  {
   "cell_type": "code",
   "execution_count": null,
   "metadata": {},
   "outputs": [],
   "source": []
  },
  {
   "cell_type": "code",
   "execution_count": 10,
   "metadata": {},
   "outputs": [],
   "source": [
    "# resnet18 and remove the final two layers\n",
    "resnet18 = models.resnet18(pretrained=True)\n",
    "CNN_model = nn.Sequential(*(list(resnet18.children())[:-1]))\n",
    "CNN_model[8] = nn.AvgPool2d(7,stride=1)"
   ]
  },
  {
   "cell_type": "code",
   "execution_count": 11,
   "metadata": {},
   "outputs": [
    {
     "data": {
      "text/plain": [
       "torch.Size([8, 512, 1, 43])"
      ]
     },
     "execution_count": 11,
     "metadata": {},
     "output_type": "execute_result"
    }
   ],
   "source": [
    "output_1 = CNN_model(sample_1)\n",
    "output_1.size()"
   ]
  },
  {
   "cell_type": "code",
   "execution_count": null,
   "metadata": {},
   "outputs": [],
   "source": [
    "\n"
   ]
  },
  {
   "cell_type": "code",
   "execution_count": 12,
   "metadata": {},
   "outputs": [
    {
     "data": {
      "text/plain": [
       "torch.Size([8, 43, 512])"
      ]
     },
     "execution_count": 12,
     "metadata": {},
     "output_type": "execute_result"
    }
   ],
   "source": [
    "output_1 = CNN_model(sample_1)\n",
    "output_1 = output_1.squeeze(2)\n",
    "output_1 = torch.transpose(output_1,1,2)\n",
    "output_1.size()"
   ]
  },
  {
   "cell_type": "code",
   "execution_count": null,
   "metadata": {},
   "outputs": [],
   "source": []
  },
  {
   "cell_type": "code",
   "execution_count": 13,
   "metadata": {},
   "outputs": [],
   "source": [
    "class LSTM(nn.Module):\n",
    "    def __init__(self, in_dim=512, hidden_dim=128):\n",
    "        super(LSTM, self).__init__()\n",
    "        self.lstm_1 = nn.LSTM(in_dim, hidden_dim, batch_first=True)\n",
    "        self.lstm_2 = nn.LSTM(hidden_dim, hidden_dim, batch_first=True)\n",
    "\n",
    "    def forward(self, x):\n",
    "        x, _ = self.lstm_1(x)\n",
    "        x, _ = self.lstm_2(x)\n",
    "        x = x[:, -1, :]\n",
    "        return x\n",
    "RNN_model = LSTM()"
   ]
  },
  {
   "cell_type": "code",
   "execution_count": 14,
   "metadata": {},
   "outputs": [
    {
     "data": {
      "text/plain": [
       "torch.Size([8, 128])"
      ]
     },
     "execution_count": 14,
     "metadata": {},
     "output_type": "execute_result"
    }
   ],
   "source": [
    "RNN_model(output_1).size()"
   ]
  },
  {
   "cell_type": "code",
   "execution_count": null,
   "metadata": {},
   "outputs": [],
   "source": []
  },
  {
   "cell_type": "code",
   "execution_count": null,
   "metadata": {},
   "outputs": [],
   "source": []
  },
  {
   "cell_type": "code",
   "execution_count": 15,
   "metadata": {},
   "outputs": [],
   "source": [
    "class MyModel(nn.Module):\n",
    "    def __init__(self):\n",
    "        super(MyModel, self).__init__()\n",
    "        self.cnn = CNN_model\n",
    "        self.rnn = RNN_model\n",
    "        self.fc1 = nn.Linear(128*3,1024)\n",
    "        self.activation_fc1 = nn.ReLU()\n",
    "        self.dropout1 = nn.Dropout(p=0.2)\n",
    "        self.fc2 = nn.Linear(1024,128)\n",
    "        self.activation_fc2 = nn.ReLU()\n",
    "        self.fc3 = nn.Linear(128,2)\n",
    "    \n",
    "    def forward(self, x1, x2):\n",
    "        x1 = self.cnn(x1)\n",
    "        x2 = self.cnn(x2)\n",
    "        \n",
    "        x1 = x1.squeeze(2)\n",
    "        x1 = torch.transpose(x1,1,2)\n",
    "        x2 = x2.squeeze(2)\n",
    "        x2 = torch.transpose(x2,1,2)\n",
    "        \n",
    "        x1 = self.rnn(x1)\n",
    "        x2 = self.rnn(x2)\n",
    "        \n",
    "        x_add = x1+x2\n",
    "        x_minus = x1-x2\n",
    "        x_multiply = x1*x2\n",
    "        x = torch.cat((x_add, x_minus, x_multiply),-1)\n",
    "        x = self.fc1(x)\n",
    "        x = self.activation_fc1(x)\n",
    "        x = self.dropout1(x)\n",
    "        x = self.fc2(x)\n",
    "        x = self.activation_fc2(x)\n",
    "        x = self.fc3(x)\n",
    "        return x"
   ]
  },
  {
   "cell_type": "code",
   "execution_count": 16,
   "metadata": {},
   "outputs": [],
   "source": [
    "model = MyModel()"
   ]
  },
  {
   "cell_type": "code",
   "execution_count": 17,
   "metadata": {},
   "outputs": [
    {
     "data": {
      "text/plain": [
       "torch.Size([8, 2])"
      ]
     },
     "execution_count": 17,
     "metadata": {},
     "output_type": "execute_result"
    }
   ],
   "source": [
    "model(sample_1,sample_2).size()"
   ]
  },
  {
   "cell_type": "code",
   "execution_count": null,
   "metadata": {},
   "outputs": [],
   "source": []
  },
  {
   "cell_type": "code",
   "execution_count": null,
   "metadata": {},
   "outputs": [],
   "source": []
  },
  {
   "cell_type": "markdown",
   "metadata": {},
   "source": [
    "## Train"
   ]
  },
  {
   "cell_type": "code",
   "execution_count": 18,
   "metadata": {},
   "outputs": [],
   "source": [
    "def train(model, train_loader=train_loader, val_loader=val_loader, learning_rate=1e-4, num_epoch=100):\n",
    "    start_time = time.time()\n",
    "\n",
    "    loss_fn = nn.CrossEntropyLoss()\n",
    "    optimizer = optim.Adam(model.parameters(),lr=learning_rate)\n",
    "    \n",
    "    train_loss_return = []\n",
    "    train_acc_return = []\n",
    "    val_loss_return = []\n",
    "    val_acc_return = []\n",
    "    best_acc = 0\n",
    "    \n",
    "    for epoch in range(num_epoch):\n",
    "        # Training steps\n",
    "        correct = 0\n",
    "        total = 0\n",
    "        predictions = []\n",
    "        truths = []\n",
    "        model.train()\n",
    "        train_loss_list = []\n",
    "        for i, (sample) in enumerate(train_loader):\n",
    "            sample_1 = sample['x1'].to(device)\n",
    "            sample_2 = sample['x2'].to(device)\n",
    "            labels = sample['y'].to(device)\n",
    "            outputs = model(sample_1,sample_2)\n",
    "            pred = outputs.data.max(-1)[1]\n",
    "            predictions += list(pred.cpu().numpy())\n",
    "            truths += list(labels.cpu().numpy())\n",
    "            total += labels.size(0)\n",
    "            correct += (pred == labels).sum()\n",
    "            model.zero_grad()\n",
    "            loss = loss_fn(outputs, labels)\n",
    "            print(loss)\n",
    "            train_loss_list.append(loss.item())\n",
    "            loss.backward()\n",
    "            optimizer.step()\n",
    "        # report performance\n",
    "        acc = (100 * correct / total)\n",
    "        train_acc_return.append(acc)\n",
    "        train_loss_every_epoch = np.average(train_loss_list)\n",
    "        train_loss_return.append(train_loss_every_epoch)\n",
    "        print('----------Epoch{:2d}/{:2d}----------'.format(epoch+1,num_epoch))\n",
    "        print('Train set | Loss: {:6.4f} | Accuracy: {:4.2f}% '.format(train_loss_every_epoch, acc))\n",
    "        \n",
    "        # Evaluate after every epochh\n",
    "        correct = 0\n",
    "        total = 0\n",
    "        model.eval()\n",
    "        predictions = []\n",
    "        truths = []\n",
    "        val_loss_list = []\n",
    "        with torch.no_grad():\n",
    "            for i, (sample) in enumerate(val_loader):\n",
    "                sample_1 = sample['x1'].to(device)\n",
    "                sample_2 = sample['x2'].to(device)\n",
    "                labels = sample['y'].to(device)\n",
    "                outputs = model(sample_1,sample_2)\n",
    "                loss = loss_fn(outputs, labels)\n",
    "                val_loss_list.append(loss.item())\n",
    "                pred = outputs.data.max(-1)[1]\n",
    "                predictions += list(pred.cpu().numpy())\n",
    "                truths += list(labels.cpu().numpy())\n",
    "                total += labels.size(0)\n",
    "                correct += (pred == labels).sum()\n",
    "            # report performance\n",
    "            acc = (100 * correct / total)\n",
    "            val_acc_return.append(acc)\n",
    "            val_loss_every_epoch = np.average(val_loss_list)\n",
    "            val_loss_return.append(val_loss_every_epoch)\n",
    "            if acc > best_acc:\n",
    "                best_acc = acc\n",
    "                best_model_wts = model.state_dict()\n",
    "            save_model(model,train_loss_return,train_acc_return,val_loss_return,val_acc_return,best_model_wts)\n",
    "            elapse = time.strftime('%H:%M:%S', time.gmtime(int((time.time() - start_time))))\n",
    "            print('Test set | Loss: {:6.4f} | Accuracy: {:4.2f}% | time elapse: {:>9}'\\\n",
    "                  .format(val_loss_every_epoch, acc,elapse))\n",
    "    return model,train_loss_return,train_acc_return,val_loss_return,val_acc_return,best_model_wts\n",
    "\n",
    "def save_model(model,train_loss_return,train_acc_return,val_loss_return,val_acc_return,best_model_wts):\n",
    "    state = {'best_model_wts':best_model_wts, 'model':model, \\\n",
    "             'train_loss':train_loss_return, 'train_acc':train_acc_return,\\\n",
    "             'val_loss':val_loss_return, 'val_acc':val_acc_return}\n",
    "    torch.save(state, 'checkpoint_CNN_LSTM.pt')\n",
    "    return None"
   ]
  },
  {
   "cell_type": "code",
   "execution_count": 19,
   "metadata": {},
   "outputs": [],
   "source": [
    "model = MyModel().to(device)"
   ]
  },
  {
   "cell_type": "code",
   "execution_count": 20,
   "metadata": {},
   "outputs": [
    {
     "name": "stdout",
     "output_type": "stream",
     "text": [
      "tensor(0.6876, device='cuda:0', grad_fn=<NllLossBackward>)\n",
      "tensor(0.7107, device='cuda:0', grad_fn=<NllLossBackward>)\n",
      "tensor(0.6880, device='cuda:0', grad_fn=<NllLossBackward>)\n",
      "tensor(0.7027, device='cuda:0', grad_fn=<NllLossBackward>)\n",
      "tensor(0.6908, device='cuda:0', grad_fn=<NllLossBackward>)\n",
      "tensor(0.7180, device='cuda:0', grad_fn=<NllLossBackward>)\n",
      "tensor(0.6808, device='cuda:0', grad_fn=<NllLossBackward>)\n",
      "tensor(0.6998, device='cuda:0', grad_fn=<NllLossBackward>)\n",
      "tensor(0.6852, device='cuda:0', grad_fn=<NllLossBackward>)\n",
      "tensor(0.6958, device='cuda:0', grad_fn=<NllLossBackward>)\n",
      "tensor(0.6814, device='cuda:0', grad_fn=<NllLossBackward>)\n",
      "tensor(0.7084, device='cuda:0', grad_fn=<NllLossBackward>)\n",
      "tensor(0.7046, device='cuda:0', grad_fn=<NllLossBackward>)\n",
      "tensor(0.6958, device='cuda:0', grad_fn=<NllLossBackward>)\n",
      "tensor(0.6822, device='cuda:0', grad_fn=<NllLossBackward>)\n",
      "tensor(0.6883, device='cuda:0', grad_fn=<NllLossBackward>)\n",
      "tensor(0.6896, device='cuda:0', grad_fn=<NllLossBackward>)\n",
      "tensor(0.7012, device='cuda:0', grad_fn=<NllLossBackward>)\n",
      "tensor(0.6894, device='cuda:0', grad_fn=<NllLossBackward>)\n",
      "tensor(0.6960, device='cuda:0', grad_fn=<NllLossBackward>)\n",
      "tensor(0.6903, device='cuda:0', grad_fn=<NllLossBackward>)\n",
      "tensor(0.6795, device='cuda:0', grad_fn=<NllLossBackward>)\n",
      "tensor(0.6872, device='cuda:0', grad_fn=<NllLossBackward>)\n",
      "tensor(0.6906, device='cuda:0', grad_fn=<NllLossBackward>)\n",
      "tensor(0.6954, device='cuda:0', grad_fn=<NllLossBackward>)\n",
      "tensor(0.6787, device='cuda:0', grad_fn=<NllLossBackward>)\n",
      "tensor(0.6863, device='cuda:0', grad_fn=<NllLossBackward>)\n",
      "tensor(0.6980, device='cuda:0', grad_fn=<NllLossBackward>)\n",
      "tensor(0.6612, device='cuda:0', grad_fn=<NllLossBackward>)\n",
      "tensor(0.6883, device='cuda:0', grad_fn=<NllLossBackward>)\n",
      "tensor(0.6837, device='cuda:0', grad_fn=<NllLossBackward>)\n",
      "tensor(0.6797, device='cuda:0', grad_fn=<NllLossBackward>)\n",
      "tensor(0.6803, device='cuda:0', grad_fn=<NllLossBackward>)\n",
      "tensor(0.7051, device='cuda:0', grad_fn=<NllLossBackward>)\n",
      "tensor(0.7106, device='cuda:0', grad_fn=<NllLossBackward>)\n",
      "tensor(0.6713, device='cuda:0', grad_fn=<NllLossBackward>)\n",
      "tensor(0.6884, device='cuda:0', grad_fn=<NllLossBackward>)\n",
      "tensor(0.7351, device='cuda:0', grad_fn=<NllLossBackward>)\n",
      "tensor(0.6799, device='cuda:0', grad_fn=<NllLossBackward>)\n",
      "tensor(0.7207, device='cuda:0', grad_fn=<NllLossBackward>)\n",
      "tensor(0.6854, device='cuda:0', grad_fn=<NllLossBackward>)\n",
      "tensor(0.6875, device='cuda:0', grad_fn=<NllLossBackward>)\n",
      "tensor(0.7136, device='cuda:0', grad_fn=<NllLossBackward>)\n",
      "tensor(0.7037, device='cuda:0', grad_fn=<NllLossBackward>)\n",
      "tensor(0.6962, device='cuda:0', grad_fn=<NllLossBackward>)\n",
      "tensor(0.7112, device='cuda:0', grad_fn=<NllLossBackward>)\n",
      "tensor(0.6909, device='cuda:0', grad_fn=<NllLossBackward>)\n",
      "tensor(0.6907, device='cuda:0', grad_fn=<NllLossBackward>)\n",
      "tensor(0.6759, device='cuda:0', grad_fn=<NllLossBackward>)\n",
      "tensor(0.7015, device='cuda:0', grad_fn=<NllLossBackward>)\n",
      "tensor(0.6932, device='cuda:0', grad_fn=<NllLossBackward>)\n",
      "tensor(0.7009, device='cuda:0', grad_fn=<NllLossBackward>)\n",
      "tensor(0.6945, device='cuda:0', grad_fn=<NllLossBackward>)\n",
      "tensor(0.6766, device='cuda:0', grad_fn=<NllLossBackward>)\n",
      "tensor(0.6910, device='cuda:0', grad_fn=<NllLossBackward>)\n",
      "tensor(0.6602, device='cuda:0', grad_fn=<NllLossBackward>)\n",
      "tensor(0.7072, device='cuda:0', grad_fn=<NllLossBackward>)\n",
      "tensor(0.6747, device='cuda:0', grad_fn=<NllLossBackward>)\n",
      "tensor(0.6816, device='cuda:0', grad_fn=<NllLossBackward>)\n",
      "tensor(0.6895, device='cuda:0', grad_fn=<NllLossBackward>)\n",
      "tensor(0.6796, device='cuda:0', grad_fn=<NllLossBackward>)\n"
     ]
    },
    {
     "ename": "KeyboardInterrupt",
     "evalue": "",
     "output_type": "error",
     "traceback": [
      "\u001b[0;31m---------------------------------------------------------------------------\u001b[0m",
      "\u001b[0;31mKeyboardInterrupt\u001b[0m                         Traceback (most recent call last)",
      "\u001b[0;32m<ipython-input-20-9d3046b5d0d4>\u001b[0m in \u001b[0;36m<module>\u001b[0;34m\u001b[0m\n\u001b[0;32m----> 1\u001b[0;31m \u001b[0mtrain\u001b[0m\u001b[0;34m(\u001b[0m\u001b[0mmodel\u001b[0m\u001b[0;34m)\u001b[0m\u001b[0;34m\u001b[0m\u001b[0m\n\u001b[0m",
      "\u001b[0;32m<ipython-input-18-bae27c25fd1e>\u001b[0m in \u001b[0;36mtrain\u001b[0;34m(model, train_loader, val_loader, learning_rate, num_epoch)\u001b[0m\n\u001b[1;32m     20\u001b[0m         \u001b[0mtrain_loss_list\u001b[0m \u001b[0;34m=\u001b[0m \u001b[0;34m[\u001b[0m\u001b[0;34m]\u001b[0m\u001b[0;34m\u001b[0m\u001b[0m\n\u001b[1;32m     21\u001b[0m         \u001b[0;32mfor\u001b[0m \u001b[0mi\u001b[0m\u001b[0;34m,\u001b[0m \u001b[0;34m(\u001b[0m\u001b[0msample\u001b[0m\u001b[0;34m)\u001b[0m \u001b[0;32min\u001b[0m \u001b[0menumerate\u001b[0m\u001b[0;34m(\u001b[0m\u001b[0mtrain_loader\u001b[0m\u001b[0;34m)\u001b[0m\u001b[0;34m:\u001b[0m\u001b[0;34m\u001b[0m\u001b[0m\n\u001b[0;32m---> 22\u001b[0;31m             \u001b[0msample_1\u001b[0m \u001b[0;34m=\u001b[0m \u001b[0msample\u001b[0m\u001b[0;34m[\u001b[0m\u001b[0;34m'x1'\u001b[0m\u001b[0;34m]\u001b[0m\u001b[0;34m.\u001b[0m\u001b[0mto\u001b[0m\u001b[0;34m(\u001b[0m\u001b[0mdevice\u001b[0m\u001b[0;34m)\u001b[0m\u001b[0;34m\u001b[0m\u001b[0m\n\u001b[0m\u001b[1;32m     23\u001b[0m             \u001b[0msample_2\u001b[0m \u001b[0;34m=\u001b[0m \u001b[0msample\u001b[0m\u001b[0;34m[\u001b[0m\u001b[0;34m'x2'\u001b[0m\u001b[0;34m]\u001b[0m\u001b[0;34m.\u001b[0m\u001b[0mto\u001b[0m\u001b[0;34m(\u001b[0m\u001b[0mdevice\u001b[0m\u001b[0;34m)\u001b[0m\u001b[0;34m\u001b[0m\u001b[0m\n\u001b[1;32m     24\u001b[0m             \u001b[0mlabels\u001b[0m \u001b[0;34m=\u001b[0m \u001b[0msample\u001b[0m\u001b[0;34m[\u001b[0m\u001b[0;34m'y'\u001b[0m\u001b[0;34m]\u001b[0m\u001b[0;34m.\u001b[0m\u001b[0mto\u001b[0m\u001b[0;34m(\u001b[0m\u001b[0mdevice\u001b[0m\u001b[0;34m)\u001b[0m\u001b[0;34m\u001b[0m\u001b[0m\n",
      "\u001b[0;31mKeyboardInterrupt\u001b[0m: "
     ]
    }
   ],
   "source": [
    "train(model)"
   ]
  },
  {
   "cell_type": "code",
   "execution_count": null,
   "metadata": {},
   "outputs": [],
   "source": []
  },
  {
   "cell_type": "code",
   "execution_count": null,
   "metadata": {},
   "outputs": [],
   "source": []
  },
  {
   "cell_type": "code",
   "execution_count": null,
   "metadata": {},
   "outputs": [],
   "source": []
  },
  {
   "cell_type": "markdown",
   "metadata": {},
   "source": [
    "## Evaluate"
   ]
  },
  {
   "cell_type": "code",
   "execution_count": 18,
   "metadata": {},
   "outputs": [],
   "source": [
    "model = MyModel().to(device)"
   ]
  },
  {
   "cell_type": "code",
   "execution_count": 19,
   "metadata": {},
   "outputs": [
    {
     "data": {
      "text/plain": [
       "<All keys matched successfully>"
      ]
     },
     "execution_count": 19,
     "metadata": {},
     "output_type": "execute_result"
    }
   ],
   "source": [
    "model.load_state_dict(torch.load('/scratch/cz2064/myjupyter/Time_Series/notebook/python_files/\\\n",
    "CNN_LSTM_Spectrogram_2/Second_Train/checkpoint_CNN_LSTM.pt',map_location=torch.device(device))['best_model_wts'])"
   ]
  },
  {
   "cell_type": "code",
   "execution_count": 20,
   "metadata": {},
   "outputs": [],
   "source": [
    "test_df_path = '/scratch/cz2064/myjupyter/Time_Series/notebook/test.csv'\n",
    "test_loader = DataLoader(my_dataset(test_df_path), batch_size=1, shuffle=False,collate_fn = pad_collate)"
   ]
  },
  {
   "cell_type": "code",
   "execution_count": 21,
   "metadata": {},
   "outputs": [],
   "source": [
    "def evaluate_model(model, dataloader):   \n",
    "    model.eval()\n",
    "    y_true = []\n",
    "    y_score = []\n",
    "    y_pre = []\n",
    "    \n",
    "    model.eval()\n",
    "    for i,(sample) in enumerate(dataloader):\n",
    "\n",
    "        sample_1 = sample['x1'].to(device)\n",
    "        sample_2 = sample['x2'].to(device)\n",
    "        label = sample['y'].to('cpu',dtype=torch.long)\n",
    "        y_true += label.tolist()\n",
    "\n",
    "        output = model(sample_1,sample_2)\n",
    "        output = F.softmax(output,dim=1)\n",
    "        output = output.to('cpu')\n",
    "        if y_score == []:\n",
    "            y_score = np.array(output.detach().numpy())\n",
    "        else:\n",
    "            y_score = np.concatenate((y_score,output.detach().numpy()),axis = 0)\n",
    "    for i in y_score:\n",
    "        y_pre.append(list(i).index(max(i)))\n",
    "    return y_true,y_pre,y_score"
   ]
  },
  {
   "cell_type": "code",
   "execution_count": 22,
   "metadata": {},
   "outputs": [],
   "source": [
    "y_true,y_pre,y_score = evaluate_model(model, test_loader)"
   ]
  },
  {
   "cell_type": "code",
   "execution_count": 23,
   "metadata": {},
   "outputs": [],
   "source": [
    "test_df = pd.read_csv(test_df_path)\n",
    "test_df['pre'] = y_pre\n",
    "test_df['score'] = np.expand_dims(np.array(y_score),2)[:,1]"
   ]
  },
  {
   "cell_type": "code",
   "execution_count": 24,
   "metadata": {},
   "outputs": [
    {
     "data": {
      "text/html": [
       "<div>\n",
       "<style scoped>\n",
       "    .dataframe tbody tr th:only-of-type {\n",
       "        vertical-align: middle;\n",
       "    }\n",
       "\n",
       "    .dataframe tbody tr th {\n",
       "        vertical-align: top;\n",
       "    }\n",
       "\n",
       "    .dataframe thead th {\n",
       "        text-align: right;\n",
       "    }\n",
       "</style>\n",
       "<table border=\"1\" class=\"dataframe\">\n",
       "  <thead>\n",
       "    <tr style=\"text-align: right;\">\n",
       "      <th></th>\n",
       "      <th>True or False</th>\n",
       "      <th>sample 1</th>\n",
       "      <th>sample 2</th>\n",
       "      <th>pre</th>\n",
       "      <th>score</th>\n",
       "    </tr>\n",
       "  </thead>\n",
       "  <tbody>\n",
       "    <tr>\n",
       "      <th>0</th>\n",
       "      <td>1</td>\n",
       "      <td>id10270/x6uYqmx31kE/00001.wav</td>\n",
       "      <td>id10270/8jEAjG6SegY/00008.wav</td>\n",
       "      <td>1</td>\n",
       "      <td>9.885612e-01</td>\n",
       "    </tr>\n",
       "    <tr>\n",
       "      <th>1</th>\n",
       "      <td>0</td>\n",
       "      <td>id10270/x6uYqmx31kE/00001.wav</td>\n",
       "      <td>id10300/ize_eiCFEg0/00003.wav</td>\n",
       "      <td>0</td>\n",
       "      <td>1.086153e-07</td>\n",
       "    </tr>\n",
       "    <tr>\n",
       "      <th>2</th>\n",
       "      <td>1</td>\n",
       "      <td>id10270/x6uYqmx31kE/00001.wav</td>\n",
       "      <td>id10270/GWXujl-xAVM/00017.wav</td>\n",
       "      <td>1</td>\n",
       "      <td>9.980960e-01</td>\n",
       "    </tr>\n",
       "    <tr>\n",
       "      <th>3</th>\n",
       "      <td>0</td>\n",
       "      <td>id10270/x6uYqmx31kE/00001.wav</td>\n",
       "      <td>id10273/0OCW1HUxZyg/00001.wav</td>\n",
       "      <td>0</td>\n",
       "      <td>3.541488e-02</td>\n",
       "    </tr>\n",
       "    <tr>\n",
       "      <th>4</th>\n",
       "      <td>1</td>\n",
       "      <td>id10270/x6uYqmx31kE/00001.wav</td>\n",
       "      <td>id10270/8jEAjG6SegY/00022.wav</td>\n",
       "      <td>1</td>\n",
       "      <td>9.944252e-01</td>\n",
       "    </tr>\n",
       "  </tbody>\n",
       "</table>\n",
       "</div>"
      ],
      "text/plain": [
       "   True or False                       sample 1  \\\n",
       "0              1  id10270/x6uYqmx31kE/00001.wav   \n",
       "1              0  id10270/x6uYqmx31kE/00001.wav   \n",
       "2              1  id10270/x6uYqmx31kE/00001.wav   \n",
       "3              0  id10270/x6uYqmx31kE/00001.wav   \n",
       "4              1  id10270/x6uYqmx31kE/00001.wav   \n",
       "\n",
       "                        sample 2  pre         score  \n",
       "0  id10270/8jEAjG6SegY/00008.wav    1  9.885612e-01  \n",
       "1  id10300/ize_eiCFEg0/00003.wav    0  1.086153e-07  \n",
       "2  id10270/GWXujl-xAVM/00017.wav    1  9.980960e-01  \n",
       "3  id10273/0OCW1HUxZyg/00001.wav    0  3.541488e-02  \n",
       "4  id10270/8jEAjG6SegY/00022.wav    1  9.944252e-01  "
      ]
     },
     "execution_count": 24,
     "metadata": {},
     "output_type": "execute_result"
    }
   ],
   "source": [
    "test_df.head()"
   ]
  },
  {
   "cell_type": "code",
   "execution_count": 25,
   "metadata": {},
   "outputs": [],
   "source": [
    "test_df.to_csv('Pre_CNN_LSTM.csv', index = False)"
   ]
  },
  {
   "cell_type": "code",
   "execution_count": null,
   "metadata": {},
   "outputs": [],
   "source": []
  },
  {
   "cell_type": "code",
   "execution_count": 26,
   "metadata": {},
   "outputs": [],
   "source": [
    "def ROC_curve(y_test,y_score):\n",
    "    fpr = dict()\n",
    "    tpr = dict()\n",
    "    roc_auc = dict()\n",
    "    n_classes = y_test.shape[1]\n",
    "    for i in range(n_classes):\n",
    "        fpr[i], tpr[i], _ = roc_curve(y_test[:, i], y_score[:, i])\n",
    "        roc_auc[i] = auc(fpr[i], tpr[i])\n",
    "\n",
    "    colors = cycle(['aqua', 'darkorange', 'cornflowerblue'])\n",
    "    lw = 2\n",
    "    for i, color in zip(range(n_classes), colors):\n",
    "        plt.plot(fpr[i], tpr[i], color=color, lw=lw,\n",
    "                 label='ROC curve of class {0} (area = {1:0.2f})'\n",
    "                 ''.format(i, roc_auc[i]))\n",
    "    plt.plot([0, 1], [0, 1], 'k--', lw=lw)\n",
    "    plt.xlim([0.0, 1.0])\n",
    "    plt.ylim([0.0, 1.05])\n",
    "    plt.xlabel('False Positive Rate')\n",
    "    plt.ylabel('True Positive Rate')\n",
    "    plt.title('Some extension of Receiver operating characteristic to multi-class')\n",
    "    plt.legend(loc=\"lower right\")\n",
    "    plt.show()\n",
    "    return None"
   ]
  },
  {
   "cell_type": "code",
   "execution_count": 27,
   "metadata": {},
   "outputs": [
    {
     "data": {
      "image/png": "[encoded data removed]",
      "text/plain": [
       "<Figure size 432x288 with 1 Axes>"
      ]
     },
     "metadata": {
      "needs_background": "light"
     },
     "output_type": "display_data"
    }
   ],
   "source": [
    "ROC_curve(np.expand_dims(np.array(y_true),1),np.expand_dims(np.array(y_score),2)[:,1])"
   ]
  },
  {
   "cell_type": "code",
   "execution_count": null,
   "metadata": {},
   "outputs": [],
   "source": []
  },
  {
   "cell_type": "code",
   "execution_count": null,
   "metadata": {},
   "outputs": [],
   "source": []
  }
 ],
 "metadata": {
  "kernelspec": {
   "display_name": "Python 3",
   "language": "python",
   "name": "python3"
  },
  "language_info": {
   "codemirror_mode": {
    "name": "ipython",
    "version": 3
   },
   "file_extension": ".py",
   "mimetype": "text/x-python",
   "name": "python",
   "nbconvert_exporter": "python",
   "pygments_lexer": "ipython3",
   "version": "3.6.6"
  }
 },
 "nbformat": 4,
 "nbformat_minor": 4
}

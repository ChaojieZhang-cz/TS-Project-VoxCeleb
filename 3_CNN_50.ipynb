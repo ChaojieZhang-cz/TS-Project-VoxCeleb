{
 "cells": [
  {
   "cell_type": "code",
   "execution_count": 25,
   "metadata": {
    "collapsed": true
   },
   "outputs": [],
   "source": [
    "import numpy as np\n",
    "import pandas as pd\n",
    "import os\n",
    "import torch\n",
    "import torch.nn as nn\n",
    "import torch.nn.functional as F\n",
    "from torch import optim\n",
    "import time\n",
    "from torch.utils.data import Dataset, DataLoader\n",
    "import torchaudio\n",
    "import torchvision.transforms as transforms\n",
    "import matplotlib.pyplot as plt\n",
    "\n",
    "from sklearn.preprocessing import label_binarize\n",
    "from sklearn.utils.multiclass import unique_labels\n",
    "from sklearn.metrics import confusion_matrix\n",
    "from sklearn.metrics import roc_curve, auc\n",
    "from itertools import cycle"
   ]
  },
  {
   "cell_type": "code",
   "execution_count": 2,
   "metadata": {
    "collapsed": true
   },
   "outputs": [],
   "source": [
    "device = torch.device('cuda')"
   ]
  },
  {
   "cell_type": "code",
   "execution_count": null,
   "metadata": {
    "collapsed": true
   },
   "outputs": [],
   "source": []
  },
  {
   "cell_type": "code",
   "execution_count": null,
   "metadata": {
    "collapsed": true
   },
   "outputs": [],
   "source": []
  },
  {
   "cell_type": "code",
   "execution_count": 3,
   "metadata": {
    "collapsed": true
   },
   "outputs": [],
   "source": [
    "class CNN_1D(nn.Module):\n",
    "    def __init__(self):\n",
    "        super(CNN_1D, self).__init__()\n",
    "        self.conv1 = nn.Conv1d(1, 64, 50, stride=5, padding=25)\n",
    "        self.bn1 = nn.BatchNorm1d(64)\n",
    "        self.activation1 = nn.ReLU()\n",
    "        self.maxpool1 = nn.MaxPool1d(kernel_size=10, stride=5)\n",
    "        \n",
    "        ##########################################################################\n",
    "        self.conv2a_1 = nn.Conv1d(64, 256, 1, stride=1, padding=0)\n",
    "        self.bn2a_1 = nn.BatchNorm1d(256)\n",
    "        \n",
    "        self.conv2a_2a = nn.Conv1d(64, 64, 1, stride=1, padding=0)\n",
    "        self.bn2a_2a = nn.BatchNorm1d(64)\n",
    "        self.activation2a_2a = nn.ReLU()\n",
    "        \n",
    "        self.conv2a_2b = nn.Conv1d(64, 64, 10, stride=1, padding=5)\n",
    "        self.bn2a_2b = nn.BatchNorm1d(64)\n",
    "        self.activation2a_2b = nn.ReLU()\n",
    "        \n",
    "        self.conv2a_2c = nn.Conv1d(64, 256, 1, stride=1, padding=0)\n",
    "        self.bn2a_2c = nn.BatchNorm1d(256)\n",
    "        \n",
    "        self.activation2a = nn.ReLU()\n",
    "        \n",
    "        ##########################################################################\n",
    "        self.conv2b_2a = nn.Conv1d(256, 64, 1, stride=1, padding=0)\n",
    "        self.bn2b_2a = nn.BatchNorm1d(64)\n",
    "        self.activation2b_2a = nn.ReLU()\n",
    "        \n",
    "        self.conv2b_2b = nn.Conv1d(64, 64, 10, stride=1, padding=5)\n",
    "        self.bn2b_2b = nn.BatchNorm1d(64)\n",
    "        self.activation2b_2b = nn.ReLU()\n",
    "        \n",
    "        self.conv2b_2c = nn.Conv1d(64, 256, 1, stride=1, padding=0)\n",
    "        self.bn2b_2c = nn.BatchNorm1d(256)\n",
    "        \n",
    "        self.activation2b = nn.ReLU()\n",
    "        \n",
    "        \n",
    "        ##########################################################################\n",
    "        self.conv2c_2a = nn.Conv1d(256, 64, 1, stride=1, padding=0)\n",
    "        self.bn2c_2a = nn.BatchNorm1d(64)\n",
    "        self.activation2c_2a = nn.ReLU()\n",
    "        \n",
    "        self.conv2c_2b = nn.Conv1d(64, 64, 10, stride=1, padding=5)\n",
    "        self.bn2c_2b = nn.BatchNorm1d(64)\n",
    "        self.activation2c_2b = nn.ReLU()\n",
    "        \n",
    "        self.conv2c_2c = nn.Conv1d(64, 256, 1, stride=1, padding=0)\n",
    "        self.bn2c_2c = nn.BatchNorm1d(256)\n",
    "        \n",
    "        self.activation2c = nn.ReLU()\n",
    "        \n",
    "        ##########################################################################\n",
    "        self.conv3a_1 = nn.Conv1d(256, 512, 1, stride=5, padding=0)\n",
    "        self.bn3a_1 = nn.BatchNorm1d(512)\n",
    "        \n",
    "        self.conv3a_2a = nn.Conv1d(256, 128, 1, stride=5, padding=0)\n",
    "        self.bn3a_2a = nn.BatchNorm1d(128)\n",
    "        self.activation3a_2a = nn.ReLU()\n",
    "        \n",
    "        self.conv3a_2b = nn.Conv1d(128, 128, 10, stride=1, padding=5)\n",
    "        self.bn3a_2b = nn.BatchNorm1d(128)\n",
    "        self.activation3a_2b = nn.ReLU()\n",
    "        \n",
    "        self.conv3a_2c = nn.Conv1d(128, 512, 1, stride=1, padding=0)\n",
    "        self.bn3a_2c = nn.BatchNorm1d(512)\n",
    "        \n",
    "        self.activation3a = nn.ReLU()\n",
    "        \n",
    "        \n",
    "        ##########################################################################\n",
    "        self.conv3b_2a = nn.Conv1d(512, 128, 1, stride=1, padding=0)\n",
    "        self.bn3b_2a = nn.BatchNorm1d(128)\n",
    "        self.activation3b_2a = nn.ReLU()\n",
    "        \n",
    "        self.conv3b_2b = nn.Conv1d(128, 128, 10, stride=1, padding=5)\n",
    "        self.bn3b_2b = nn.BatchNorm1d(128)\n",
    "        self.activation3b_2b = nn.ReLU()\n",
    "        \n",
    "        self.conv3b_2c = nn.Conv1d(128, 512, 1, stride=1, padding=0)\n",
    "        self.bn3b_2c = nn.BatchNorm1d(512)\n",
    "        \n",
    "        self.activation3b = nn.ReLU()\n",
    "        \n",
    "        ##########################################################################\n",
    "        self.conv3c_2a = nn.Conv1d(512, 128, 1, stride=1, padding=0)\n",
    "        self.bn3c_2a = nn.BatchNorm1d(128)\n",
    "        self.activation3c_2a = nn.ReLU()\n",
    "        \n",
    "        self.conv3c_2b = nn.Conv1d(128, 128, 10, stride=1, padding=5)\n",
    "        self.bn3c_2b = nn.BatchNorm1d(128)\n",
    "        self.activation3c_2b = nn.ReLU()\n",
    "        \n",
    "        self.conv3c_2c = nn.Conv1d(128, 512, 1, stride=1, padding=0)\n",
    "        self.bn3c_2c = nn.BatchNorm1d(512)\n",
    "        \n",
    "        self.activation3c = nn.ReLU()\n",
    "        \n",
    "        ##########################################################################\n",
    "        self.conv3d_2a = nn.Conv1d(512, 128, 1, stride=1, padding=0)\n",
    "        self.bn3d_2a = nn.BatchNorm1d(128)\n",
    "        self.activation3d_2a = nn.ReLU()\n",
    "        \n",
    "        self.conv3d_2b = nn.Conv1d(128, 128, 10, stride=1, padding=5)\n",
    "        self.bn3d_2b = nn.BatchNorm1d(128)\n",
    "        self.activation3d_2b = nn.ReLU()\n",
    "        \n",
    "        self.conv3d_2c = nn.Conv1d(128, 512, 1, stride=1, padding=0)\n",
    "        self.bn3d_2c = nn.BatchNorm1d(512)\n",
    "        \n",
    "        self.activation3d = nn.ReLU()\n",
    "        \n",
    "        ##########################################################################\n",
    "        self.conv4a_1 = nn.Conv1d(512, 1024, 1, stride=5, padding=0)\n",
    "        self.bn4a_1 = nn.BatchNorm1d(1024)\n",
    "        \n",
    "        self.conv4a_2a = nn.Conv1d(512, 256, 1, stride=5, padding=0)\n",
    "        self.bn4a_2a = nn.BatchNorm1d(256)\n",
    "        self.activation4a_2a = nn.ReLU()\n",
    "        \n",
    "        self.conv4a_2b = nn.Conv1d(256, 256, 10, stride=1, padding=5)\n",
    "        self.bn4a_2b = nn.BatchNorm1d(256)\n",
    "        self.activation4a_2b = nn.ReLU()\n",
    "        \n",
    "        self.conv4a_2c = nn.Conv1d(256, 1024, 1, stride=1, padding=0)\n",
    "        self.bn4a_2c = nn.BatchNorm1d(1024)\n",
    "        \n",
    "        self.activation4a = nn.ReLU()\n",
    "        \n",
    "        ##########################################################################\n",
    "        self.conv4b_2a = nn.Conv1d(1024, 256, 1, stride=1, padding=0)\n",
    "        self.bn4b_2a = nn.BatchNorm1d(256)\n",
    "        self.activation4b_2a = nn.ReLU()\n",
    "        \n",
    "        self.conv4b_2b = nn.Conv1d(256, 256, 10, stride=1, padding=5)\n",
    "        self.bn4b_2b = nn.BatchNorm1d(256)\n",
    "        self.activation4b_2b = nn.ReLU()\n",
    "        \n",
    "        self.conv4b_2c = nn.Conv1d(256, 1024, 1, stride=1, padding=0)\n",
    "        self.bn4b_2c = nn.BatchNorm1d(1024)\n",
    "        \n",
    "        self.activation4b = nn.ReLU()\n",
    "        \n",
    "        \n",
    "        ##########################################################################\n",
    "        self.conv4c_2a = nn.Conv1d(1024, 256, 1, stride=1, padding=0)\n",
    "        self.bn4c_2a = nn.BatchNorm1d(256)\n",
    "        self.activation4c_2a = nn.ReLU()\n",
    "        \n",
    "        self.conv4c_2b = nn.Conv1d(256, 256, 10, stride=1, padding=5)\n",
    "        self.bn4c_2b = nn.BatchNorm1d(256)\n",
    "        self.activation4c_2b = nn.ReLU()\n",
    "        \n",
    "        self.conv4c_2c = nn.Conv1d(256, 1024, 1, stride=1, padding=0)\n",
    "        self.bn4c_2c = nn.BatchNorm1d(1024)\n",
    "        \n",
    "        self.activation4c = nn.ReLU()\n",
    "        \n",
    "        ##########################################################################\n",
    "        self.conv4d_2a = nn.Conv1d(1024, 256, 1, stride=1, padding=0)\n",
    "        self.bn4d_2a = nn.BatchNorm1d(256)\n",
    "        self.activation4d_2a = nn.ReLU()\n",
    "        \n",
    "        self.conv4d_2b = nn.Conv1d(256, 256, 10, stride=1, padding=5)\n",
    "        self.bn4d_2b = nn.BatchNorm1d(256)\n",
    "        self.activation4d_2b = nn.ReLU()\n",
    "        \n",
    "        self.conv4d_2c = nn.Conv1d(256, 1024, 1, stride=1, padding=0)\n",
    "        self.bn4d_2c = nn.BatchNorm1d(1024)\n",
    "        \n",
    "        self.activation4d = nn.ReLU()\n",
    "        \n",
    "        ##########################################################################\n",
    "        self.conv4e_2a = nn.Conv1d(1024, 256, 1, stride=1, padding=0)\n",
    "        self.bn4e_2a = nn.BatchNorm1d(256)\n",
    "        self.activation4e_2a = nn.ReLU()\n",
    "        \n",
    "        self.conv4e_2b = nn.Conv1d(256, 256, 10, stride=1, padding=5)\n",
    "        self.bn4e_2b = nn.BatchNorm1d(256)\n",
    "        self.activation4e_2b = nn.ReLU()\n",
    "        \n",
    "        self.conv4e_2c = nn.Conv1d(256, 1024, 1, stride=1, padding=0)\n",
    "        self.bn4e_2c = nn.BatchNorm1d(1024)\n",
    "        \n",
    "        self.activation4e = nn.ReLU()\n",
    "        \n",
    "        ##########################################################################\n",
    "        self.conv4f_2a = nn.Conv1d(1024, 256, 1, stride=1, padding=0)\n",
    "        self.bn4f_2a = nn.BatchNorm1d(256)\n",
    "        self.activation4f_2a = nn.ReLU()\n",
    "        \n",
    "        self.conv4f_2b = nn.Conv1d(256, 256, 10, stride=1, padding=5)\n",
    "        self.bn4f_2b = nn.BatchNorm1d(256)\n",
    "        self.activation4f_2b = nn.ReLU()\n",
    "        \n",
    "        self.conv4f_2c = nn.Conv1d(256, 1024, 1, stride=1, padding=0)\n",
    "        self.bn4f_2c = nn.BatchNorm1d(1024)\n",
    "        \n",
    "        self.activation4f = nn.ReLU()\n",
    "        \n",
    "        ##########################################################################\n",
    "        self.conv5a_1 = nn.Conv1d(1024, 2048, 1, stride=5, padding=0)\n",
    "        self.bn5a_1 = nn.BatchNorm1d(2048)\n",
    "        \n",
    "        self.conv5a_2a = nn.Conv1d(1024, 512, 1, stride=5, padding=0)\n",
    "        self.bn5a_2a = nn.BatchNorm1d(512)\n",
    "        self.activation5a_2a = nn.ReLU()\n",
    "        \n",
    "        self.conv5a_2b = nn.Conv1d(512, 512, 10, stride=1, padding=5)\n",
    "        self.bn5a_2b = nn.BatchNorm1d(512)\n",
    "        self.activation5a_2b = nn.ReLU()\n",
    "        \n",
    "        self.conv5a_2c = nn.Conv1d(512, 2048, 1, stride=1, padding=0)\n",
    "        self.bn5a_2c = nn.BatchNorm1d(2048)\n",
    "        \n",
    "        self.activation5a = nn.ReLU()\n",
    "        \n",
    "        ##########################################################################\n",
    "        self.conv5b_2a = nn.Conv1d(2048, 512, 1, stride=1, padding=0)\n",
    "        self.bn5b_2a = nn.BatchNorm1d(512)\n",
    "        self.activation5b_2a = nn.ReLU()\n",
    "        \n",
    "        self.conv5b_2b = nn.Conv1d(512, 512, 10, stride=1, padding=5)\n",
    "        self.bn5b_2b = nn.BatchNorm1d(512)\n",
    "        self.activation5b_2b = nn.ReLU()\n",
    "        \n",
    "        self.conv5b_2c = nn.Conv1d(512, 2048, 1, stride=1, padding=0)\n",
    "        self.bn5b_2c = nn.BatchNorm1d(2048)\n",
    "        \n",
    "        self.activation5b = nn.ReLU()\n",
    "        \n",
    "        \n",
    "        ##########################################################################\n",
    "        self.conv5c_2a = nn.Conv1d(2048, 512, 1, stride=1, padding=0)\n",
    "        self.bn5c_2a = nn.BatchNorm1d(512)\n",
    "        self.activation5c_2a = nn.ReLU()\n",
    "        \n",
    "        self.conv5c_2b = nn.Conv1d(512, 512, 10, stride=1, padding=5)\n",
    "        self.bn5c_2b = nn.BatchNorm1d(512)\n",
    "        self.activation5c_2b = nn.ReLU()\n",
    "        \n",
    "        self.conv5c_2c = nn.Conv1d(512, 2048, 1, stride=1, padding=0)\n",
    "        self.bn5c_2c = nn.BatchNorm1d(2048)\n",
    "        \n",
    "        self.activation5c = nn.ReLU()\n",
    "        \n",
    "        ##########################################################################\n",
    "        self.AvgPool = nn.AvgPool1d(21)\n",
    "        \n",
    "        \n",
    "    def forward(self, x):\n",
    "        x = self.conv1(x)\n",
    "        x = self.bn1(x)\n",
    "        x = self.activation1(x)\n",
    "        x = self.maxpool1(x)\n",
    "        \n",
    "        res = x\n",
    "        res = self.conv2a_1(res)\n",
    "        res = self.bn2a_1(res)\n",
    "        x = self.conv2a_2a(x)\n",
    "        x = self.bn2a_2a(x)\n",
    "        x = self.activation2a_2a(x)\n",
    "        x = self.conv2a_2b(x)\n",
    "        x = self.bn2a_2b(x)\n",
    "        x = self.activation2a_2b(x)\n",
    "        x = self.conv2a_2c(x)\n",
    "        x = self.bn2a_2c(x)\n",
    "        x = x[:,:,:-1] + res\n",
    "        x = self.activation2a(x)\n",
    "        \n",
    "        res = x\n",
    "        x = self.conv2b_2a(x)\n",
    "        x = self.bn2b_2a(x)\n",
    "        x = self.activation2b_2a(x)\n",
    "        x = self.conv2b_2b(x)\n",
    "        x = self.bn2b_2b(x)\n",
    "        x = self.activation2b_2b(x)\n",
    "        x = self.conv2b_2c(x)\n",
    "        x = self.bn2b_2c(x)\n",
    "        x = x[:,:,:-1] + res\n",
    "        x = self.activation2b(x)\n",
    "        \n",
    "        res = x\n",
    "        x = self.conv2c_2a(x)\n",
    "        x = self.bn2c_2a(x)\n",
    "        x = self.activation2c_2a(x)\n",
    "        x = self.conv2c_2b(x)\n",
    "        x = self.bn2c_2b(x)\n",
    "        x = self.activation2c_2b(x)\n",
    "        x = self.conv2c_2c(x)\n",
    "        x = self.bn2c_2c(x)\n",
    "        x = x[:,:,:-1] + res\n",
    "        x = self.activation2c(x)\n",
    "        \n",
    "        res = x\n",
    "        res = self.conv3a_1(res)\n",
    "        res = self.bn3a_1(res)\n",
    "        x = self.conv3a_2a(x)\n",
    "        x = self.bn3a_2a(x)\n",
    "        x = self.activation3a_2a(x)\n",
    "        x = self.conv3a_2b(x)\n",
    "        x = self.bn3a_2b(x)\n",
    "        x = self.activation3a_2b(x)\n",
    "        x = self.conv3a_2c(x)\n",
    "        x = self.bn3a_2c(x)\n",
    "        x = x[:,:,:-1] + res\n",
    "        x = self.activation3a(x)\n",
    "        \n",
    "        res = x\n",
    "        x = self.conv3b_2a(x)\n",
    "        x = self.bn3b_2a(x)\n",
    "        x = self.activation3b_2a(x)\n",
    "        x = self.conv3b_2b(x)\n",
    "        x = self.bn3b_2b(x)\n",
    "        x = self.activation3b_2b(x)\n",
    "        x = self.conv3b_2c(x)\n",
    "        x = self.bn3b_2c(x)\n",
    "        x = x[:,:,:-1] + res\n",
    "        x = self.activation3b(x)\n",
    "        \n",
    "        res = x\n",
    "        x = self.conv3c_2a(x)\n",
    "        x = self.bn3c_2a(x)\n",
    "        x = self.activation3c_2a(x)\n",
    "        x = self.conv3c_2b(x)\n",
    "        x = self.bn3c_2b(x)\n",
    "        x = self.activation3c_2b(x)\n",
    "        x = self.conv3c_2c(x)\n",
    "        x = self.bn3c_2c(x)\n",
    "        x = x[:,:,:-1] + res\n",
    "        x = self.activation3c(x)\n",
    "        \n",
    "        \n",
    "        res = x\n",
    "        x = self.conv3d_2a(x)\n",
    "        x = self.bn3d_2a(x)\n",
    "        x = self.activation3d_2a(x)\n",
    "        x = self.conv3d_2b(x)\n",
    "        x = self.bn3d_2b(x)\n",
    "        x = self.activation3d_2b(x)\n",
    "        x = self.conv3d_2c(x)\n",
    "        x = self.bn3d_2c(x)\n",
    "        x = x[:,:,:-1] + res\n",
    "        x = self.activation3d(x)\n",
    "        \n",
    "        res = x\n",
    "        res = self.conv4a_1(res)\n",
    "        res = self.bn4a_1(res)\n",
    "        x = self.conv4a_2a(x)\n",
    "        x = self.bn4a_2a(x)\n",
    "        x = self.activation4a_2a(x)\n",
    "        x = self.conv4a_2b(x)\n",
    "        x = self.bn4a_2b(x)\n",
    "        x = self.activation4a_2b(x)\n",
    "        x = self.conv4a_2c(x)\n",
    "        x = self.bn4a_2c(x)\n",
    "        x = x[:,:,:-1] + res\n",
    "        x = self.activation4a(x)\n",
    "        \n",
    "        res = x\n",
    "        x = self.conv4b_2a(x)\n",
    "        x = self.bn4b_2a(x)\n",
    "        x = self.activation4b_2a(x)\n",
    "        x = self.conv4b_2b(x)\n",
    "        x = self.bn4b_2b(x)\n",
    "        x = self.activation4b_2b(x)\n",
    "        x = self.conv4b_2c(x)\n",
    "        x = self.bn4b_2c(x)\n",
    "        x = x[:,:,:-1] + res\n",
    "        x = self.activation4b(x)\n",
    "        \n",
    "        res = x\n",
    "        x = self.conv4c_2a(x)\n",
    "        x = self.bn4c_2a(x)\n",
    "        x = self.activation4c_2a(x)\n",
    "        x = self.conv4c_2b(x)\n",
    "        x = self.bn4c_2b(x)\n",
    "        x = self.activation4c_2b(x)\n",
    "        x = self.conv4c_2c(x)\n",
    "        x = self.bn4c_2c(x)\n",
    "        x = x[:,:,:-1] + res\n",
    "        x = self.activation4c(x)\n",
    "        \n",
    "        res = x\n",
    "        x = self.conv4d_2a(x)\n",
    "        x = self.bn4d_2a(x)\n",
    "        x = self.activation4d_2a(x)\n",
    "        x = self.conv4d_2b(x)\n",
    "        x = self.bn4d_2b(x)\n",
    "        x = self.activation4d_2b(x)\n",
    "        x = self.conv4d_2c(x)\n",
    "        x = self.bn4d_2c(x)\n",
    "        x = x[:,:,:-1] + res\n",
    "        x = self.activation4d(x)\n",
    "        \n",
    "        res = x\n",
    "        x = self.conv4e_2a(x)\n",
    "        x = self.bn4e_2a(x)\n",
    "        x = self.activation4e_2a(x)\n",
    "        x = self.conv4e_2b(x)\n",
    "        x = self.bn4e_2b(x)\n",
    "        x = self.activation4e_2b(x)\n",
    "        x = self.conv4e_2c(x)\n",
    "        x = self.bn4e_2c(x)\n",
    "        x = x[:,:,:-1] + res\n",
    "        x = self.activation4e(x)\n",
    "        \n",
    "        res = x\n",
    "        x = self.conv4f_2a(x)\n",
    "        x = self.bn4f_2a(x)\n",
    "        x = self.activation4f_2a(x)\n",
    "        x = self.conv4f_2b(x)\n",
    "        x = self.bn4f_2b(x)\n",
    "        x = self.activation4f_2b(x)\n",
    "        x = self.conv4f_2c(x)\n",
    "        x = self.bn4f_2c(x)\n",
    "        x = x[:,:,:-1] + res\n",
    "        x = self.activation4f(x)\n",
    "        \n",
    "        res = x\n",
    "        res = self.conv5a_1(res)\n",
    "        res = self.bn5a_1(res)\n",
    "        x = self.conv5a_2a(x)\n",
    "        x = self.bn5a_2a(x)\n",
    "        x = self.activation5a_2a(x)\n",
    "        x = self.conv5a_2b(x)\n",
    "        x = self.bn5a_2b(x)\n",
    "        x = self.activation5a_2b(x)\n",
    "        x = self.conv5a_2c(x)\n",
    "        x = self.bn5a_2c(x)\n",
    "        x = x[:,:,:-1] + res\n",
    "        x = self.activation5a(x)\n",
    "        \n",
    "        res = x\n",
    "        x = self.conv5b_2a(x)\n",
    "        x = self.bn5b_2a(x)\n",
    "        x = self.activation5b_2a(x)\n",
    "        x = self.conv5b_2b(x)\n",
    "        x = self.bn5b_2b(x)\n",
    "        x = self.activation5b_2b(x)\n",
    "        x = self.conv5b_2c(x)\n",
    "        x = self.bn5b_2c(x)\n",
    "        x = x[:,:,:-1] + res\n",
    "        x = self.activation5b(x)\n",
    "        \n",
    "        res = x\n",
    "        x = self.conv5c_2a(x)\n",
    "        x = self.bn5c_2a(x)\n",
    "        x = self.activation5c_2a(x)\n",
    "        x = self.conv5c_2b(x)\n",
    "        x = self.bn5c_2b(x)\n",
    "        x = self.activation5c_2b(x)\n",
    "        x = self.conv5c_2c(x)\n",
    "        x = self.bn5c_2c(x)\n",
    "        x = x[:,:,:-1] + res\n",
    "        x = self.activation5c(x)\n",
    "        \n",
    "        x = self.AvgPool(x)\n",
    "        x = x.view(x.size(0), -1)\n",
    "        \n",
    "        return x\n",
    "    "
   ]
  },
  {
   "cell_type": "code",
   "execution_count": null,
   "metadata": {
    "collapsed": true
   },
   "outputs": [],
   "source": []
  },
  {
   "cell_type": "code",
   "execution_count": 4,
   "metadata": {
    "collapsed": true
   },
   "outputs": [],
   "source": [
    "model_CNN = CNN_1D()"
   ]
  },
  {
   "cell_type": "code",
   "execution_count": 5,
   "metadata": {
    "collapsed": true
   },
   "outputs": [],
   "source": [
    "class MyModel(nn.Module):\n",
    "    def __init__(self):\n",
    "        super(MyModel, self).__init__()\n",
    "        self.cnn = model_CNN\n",
    "        self.fc1 = nn.Linear(6144,4096)\n",
    "        self.activation_fc1 = nn.ReLU()\n",
    "        self.dropout1 = nn.Dropout(p=0.5)\n",
    "        self.fc2 = nn.Linear(4096,2048)\n",
    "        self.activation_fc2 = nn.ReLU()\n",
    "        self.dropout2 = nn.Dropout(p=0.5)\n",
    "        self.fc3 = nn.Linear(2048,1024)\n",
    "        self.activation_fc3 = nn.ReLU()\n",
    "        self.fc4 = nn.Linear(1024,2)\n",
    "        \n",
    "    def forward(self, x1, x2):\n",
    "        x1 = self.cnn(x1)\n",
    "        x2 = self.cnn(x2)\n",
    "        \n",
    "        x_add = x1+x2\n",
    "        x_minus = x1-x2\n",
    "        x_multiply = x1*x2\n",
    "        x = torch.cat((x_add, x_minus, x_multiply),-1)\n",
    "        x = self.fc1(x)\n",
    "        x = self.activation_fc1(x)\n",
    "        x = self.dropout1(x)\n",
    "        x = self.fc2(x)\n",
    "        x = self.activation_fc2(x)\n",
    "        x = self.dropout2(x)\n",
    "        x = self.fc3(x)\n",
    "        x = self.activation_fc3(x)\n",
    "        x = self.fc4(x)\n",
    "        return x"
   ]
  },
  {
   "cell_type": "code",
   "execution_count": 6,
   "metadata": {
    "collapsed": true
   },
   "outputs": [],
   "source": [
    "model = MyModel()"
   ]
  },
  {
   "cell_type": "code",
   "execution_count": 7,
   "metadata": {},
   "outputs": [
    {
     "data": {
      "text/plain": [
       "torch.Size([1, 2])"
      ]
     },
     "execution_count": 7,
     "metadata": {},
     "output_type": "execute_result"
    }
   ],
   "source": [
    "sample1 = torch.rand([1,1,256*256])\n",
    "sample2 = torch.rand([1,1,256*256])\n",
    "model(sample1,sample2).size()"
   ]
  },
  {
   "cell_type": "code",
   "execution_count": 8,
   "metadata": {},
   "outputs": [
    {
     "data": {
      "text/plain": [
       "torch.Size([1, 1, 65536])"
      ]
     },
     "execution_count": 8,
     "metadata": {},
     "output_type": "execute_result"
    }
   ],
   "source": [
    "sample1.size()"
   ]
  },
  {
   "cell_type": "code",
   "execution_count": null,
   "metadata": {
    "collapsed": true
   },
   "outputs": [],
   "source": []
  },
  {
   "cell_type": "code",
   "execution_count": null,
   "metadata": {
    "collapsed": true
   },
   "outputs": [],
   "source": []
  },
  {
   "cell_type": "code",
   "execution_count": null,
   "metadata": {
    "collapsed": true
   },
   "outputs": [],
   "source": []
  },
  {
   "cell_type": "code",
   "execution_count": null,
   "metadata": {
    "collapsed": true
   },
   "outputs": [],
   "source": []
  },
  {
   "cell_type": "code",
   "execution_count": 9,
   "metadata": {
    "collapsed": true
   },
   "outputs": [],
   "source": [
    "def random_sampling_and_normalization(sample,sampling_length=256*256,padding=10):\n",
    "    length = sample.size(1)\n",
    "    if length<sampling_length:\n",
    "        pad = int((sampling_length-length)/2)\n",
    "        sample = torch.cat((torch.zeros((1,pad)),sample,torch.zeros((1,pad))),-1)\n",
    "    sample = torch.cat((torch.zeros((1,padding)),sample,torch.zeros((1,padding))),-1)\n",
    "    length = sample.size(1)\n",
    "    random_num = np.random.randint(low=0, high=(length-sampling_length-1))\n",
    "    sample = sample[:,random_num:random_num+sampling_length]\n",
    "    \n",
    "    #normalization\n",
    "    #channel=（channel-mean）/std\n",
    "    mean = torch.mean(sample)\n",
    "    std = torch.std(sample)\n",
    "    sample = (sample-mean)/std\n",
    "    return sample"
   ]
  },
  {
   "cell_type": "code",
   "execution_count": 10,
   "metadata": {
    "collapsed": true
   },
   "outputs": [],
   "source": [
    "def center_sampling_and_normalization(sample,sampling_length=256*256):\n",
    "    length = sample.size(1)\n",
    "    if length<sampling_length:\n",
    "        pad = int(sampling_length-length)\n",
    "        sample = torch.cat((sample,torch.zeros((1,pad))),-1)\n",
    "    sample = sample[:,:sampling_length]\n",
    "    #normalization\n",
    "    #channel=（channel-mean）/std\n",
    "    mean = torch.mean(sample)\n",
    "    std = torch.std(sample)\n",
    "    sample = (sample-mean)/std\n",
    "    return sample"
   ]
  },
  {
   "cell_type": "code",
   "execution_count": null,
   "metadata": {
    "collapsed": true
   },
   "outputs": [],
   "source": []
  },
  {
   "cell_type": "code",
   "execution_count": null,
   "metadata": {
    "collapsed": true
   },
   "outputs": [],
   "source": []
  },
  {
   "cell_type": "code",
   "execution_count": null,
   "metadata": {
    "collapsed": true
   },
   "outputs": [],
   "source": []
  },
  {
   "cell_type": "code",
   "execution_count": 11,
   "metadata": {
    "collapsed": true
   },
   "outputs": [],
   "source": [
    "class my_dataset(Dataset):\n",
    "    def __init__(self, df_path, train = False):\n",
    "        self.df = pd.read_csv(df_path)\n",
    "        self.train = train\n",
    "        \n",
    "    def __len__(self):\n",
    "        return len(self.df)\n",
    "    \n",
    "    def __getitem__(self,idx):\n",
    "        sample_1_name = self.df.iloc[idx]['sample 1']\n",
    "        sample_1_path = '/scratch/cz2064/myjupyter/Time_Series/Data/data_VoxCeleb/wav/'+sample_1_name\n",
    "        sample_1,_ = torchaudio.load(sample_1_path)\n",
    "        \n",
    "        sample_2_name = self.df.iloc[idx]['sample 2']\n",
    "        sample_2_path = '/scratch/cz2064/myjupyter/Time_Series/Data/data_VoxCeleb/wav/'+sample_2_name\n",
    "        sample_2,_ = torchaudio.load(sample_2_path)\n",
    "        \n",
    "        if self.train:\n",
    "            sample_1_tensor = random_sampling_and_normalization(sample_1)\n",
    "            sample_2_tensor = random_sampling_and_normalization(sample_2)\n",
    "        else:\n",
    "            sample_1_tensor = center_sampling_and_normalization(sample_1)\n",
    "            sample_2_tensor = center_sampling_and_normalization(sample_2)\n",
    "            \n",
    "            \n",
    "        label = self.df.loc[idx,'True or False']\n",
    "        label = torch.tensor(label, dtype=torch.long)\n",
    "        \n",
    "        sample = {'x1': sample_1_tensor, 'x2': sample_2_tensor, 'y': label}\n",
    "        \n",
    "        return sample"
   ]
  },
  {
   "cell_type": "code",
   "execution_count": null,
   "metadata": {
    "collapsed": true
   },
   "outputs": [],
   "source": []
  },
  {
   "cell_type": "code",
   "execution_count": 12,
   "metadata": {
    "collapsed": true
   },
   "outputs": [],
   "source": [
    "train_df_path = '/scratch/cz2064/myjupyter/Time_Series/notebook/train.csv'\n",
    "val_df_path = '/scratch/cz2064/myjupyter/Time_Series/notebook/val.csv'\n",
    "test_df_path = '/scratch/cz2064/myjupyter/Time_Series/notebook/test.csv'\n",
    "BATCH_SIZE = 128\n",
    "train_sampler = torch.utils.data.sampler.RandomSampler(my_dataset(train_df_path,train = True)\\\n",
    "                                                       ,num_samples=50000,replacement=True)\n",
    "train_loader = DataLoader(my_dataset(train_df_path,train = True), batch_size=BATCH_SIZE, \\\n",
    "                          sampler = train_sampler,num_workers=16)\n",
    "val_loader = DataLoader(my_dataset(val_df_path), batch_size=BATCH_SIZE, shuffle=True,num_workers=16)\n",
    "test_loader = DataLoader(my_dataset(test_df_path), batch_size=BATCH_SIZE, shuffle=True)"
   ]
  },
  {
   "cell_type": "code",
   "execution_count": 13,
   "metadata": {
    "collapsed": true
   },
   "outputs": [],
   "source": [
    "sample = next(iter(train_loader))"
   ]
  },
  {
   "cell_type": "code",
   "execution_count": 14,
   "metadata": {},
   "outputs": [
    {
     "data": {
      "text/plain": [
       "'torch.LongTensor'"
      ]
     },
     "execution_count": 14,
     "metadata": {},
     "output_type": "execute_result"
    }
   ],
   "source": [
    "sample['y'].type()"
   ]
  },
  {
   "cell_type": "code",
   "execution_count": null,
   "metadata": {
    "collapsed": true
   },
   "outputs": [],
   "source": []
  },
  {
   "cell_type": "code",
   "execution_count": null,
   "metadata": {
    "collapsed": true
   },
   "outputs": [],
   "source": []
  },
  {
   "cell_type": "markdown",
   "metadata": {},
   "source": [
    "## Train"
   ]
  },
  {
   "cell_type": "code",
   "execution_count": 15,
   "metadata": {
    "collapsed": true
   },
   "outputs": [],
   "source": [
    "def train(model, train_loader=train_loader, val_loader=val_loader, learning_rate=5e-5, num_epoch=1000):\n",
    "    start_time = time.time()\n",
    "\n",
    "    loss_fn = nn.CrossEntropyLoss()\n",
    "    optimizer = optim.Adam(model.parameters(),lr=learning_rate)\n",
    "    \n",
    "    train_loss_return = []\n",
    "    train_acc_return = []\n",
    "    val_loss_return = []\n",
    "    val_acc_return = []\n",
    "    best_acc = 0\n",
    "    \n",
    "    for epoch in range(num_epoch):\n",
    "        # Training steps\n",
    "        correct = 0\n",
    "        total = 0\n",
    "        predictions = []\n",
    "        truths = []\n",
    "        model.train()\n",
    "        train_loss_list = []\n",
    "        for i, (sample) in enumerate(train_loader):\n",
    "            sample_1 = sample['x1'].to(device)\n",
    "            sample_2 = sample['x2'].to(device)\n",
    "            labels = sample['y'].to(device)\n",
    "            outputs = model(sample_1,sample_2)\n",
    "            pred = outputs.data.max(-1)[1]\n",
    "            predictions += list(pred.cpu().numpy())\n",
    "            truths += list(labels.cpu().numpy())\n",
    "            total += labels.size(0)\n",
    "            correct += (pred == labels).sum()\n",
    "            model.zero_grad()\n",
    "            loss = loss_fn(outputs, labels)\n",
    "            print(loss)\n",
    "            train_loss_list.append(loss.item())\n",
    "            loss.backward()\n",
    "            optimizer.step()\n",
    "        # report performance\n",
    "        acc = (100 * correct / total)\n",
    "        train_acc_return.append(acc)\n",
    "        train_loss_every_epoch = np.average(train_loss_list)\n",
    "        train_loss_return.append(train_loss_every_epoch)\n",
    "        print('----------Epoch{:2d}/{:2d}----------'.format(epoch+1,num_epoch))\n",
    "        print('Train set | Loss: {:6.4f} | Accuracy: {:4.2f}% '.format(train_loss_every_epoch, acc))\n",
    "        \n",
    "        # Evaluate after every epochh\n",
    "        correct = 0\n",
    "        total = 0\n",
    "        model.eval()\n",
    "        predictions = []\n",
    "        truths = []\n",
    "        val_loss_list = []\n",
    "        with torch.no_grad():\n",
    "            for i, (sample) in enumerate(val_loader):\n",
    "                sample_1 = sample['x1'].to(device)\n",
    "                sample_2 = sample['x2'].to(device)\n",
    "                labels = sample['y'].to(device)\n",
    "                outputs = model(sample_1,sample_2)\n",
    "                loss = loss_fn(outputs, labels)\n",
    "                val_loss_list.append(loss.item())\n",
    "                pred = outputs.data.max(-1)[1]\n",
    "                predictions += list(pred.cpu().numpy())\n",
    "                truths += list(labels.cpu().numpy())\n",
    "                total += labels.size(0)\n",
    "                correct += (pred == labels).sum()\n",
    "            # report performance\n",
    "            acc = (100 * correct / total)\n",
    "            val_acc_return.append(acc)\n",
    "            val_loss_every_epoch = np.average(val_loss_list)\n",
    "            val_loss_return.append(val_loss_every_epoch)\n",
    "            if acc > best_acc:\n",
    "                best_acc = acc\n",
    "                best_model_wts = model.state_dict()\n",
    "            save_model(model,train_loss_return,train_acc_return,val_loss_return,val_acc_return,best_model_wts)\n",
    "            elapse = time.strftime('%H:%M:%S', time.gmtime(int((time.time() - start_time))))\n",
    "            print('Test set | Loss: {:6.4f} | Accuracy: {:4.2f}% | time elapse: {:>9}'\\\n",
    "                  .format(val_loss_every_epoch, acc,elapse))\n",
    "    return model,train_loss_return,train_acc_return,val_loss_return,val_acc_return,best_model_wts\n",
    "\n",
    "def save_model(model,train_loss_return,train_acc_return,val_loss_return,val_acc_return,best_model_wts):\n",
    "    state = {'best_model_wts':best_model_wts, 'model':model, \\\n",
    "             'train_loss':train_loss_return, 'train_acc':train_acc_return,\\\n",
    "             'val_loss':val_loss_return, 'val_acc':val_acc_return}\n",
    "    torch.save(state, 'checkpoint_CNN.pt')\n",
    "    return None"
   ]
  },
  {
   "cell_type": "code",
   "execution_count": null,
   "metadata": {
    "collapsed": true
   },
   "outputs": [],
   "source": []
  },
  {
   "cell_type": "code",
   "execution_count": 16,
   "metadata": {
    "collapsed": true
   },
   "outputs": [],
   "source": [
    "model = MyModel().to(device)"
   ]
  },
  {
   "cell_type": "code",
   "execution_count": 17,
   "metadata": {},
   "outputs": [
    {
     "name": "stdout",
     "output_type": "stream",
     "text": [
      "tensor(0.7027, device='cuda:0', grad_fn=<NllLossBackward>)\n"
     ]
    },
    {
     "ename": "RuntimeError",
     "evalue": "CUDA out of memory. Tried to allocate 22.00 MiB (GPU 0; 22.38 GiB total capacity; 21.52 GiB already allocated; 13.56 MiB free; 21.74 GiB reserved in total by PyTorch)",
     "output_type": "error",
     "traceback": [
      "\u001b[0;31m---------------------------------------------------------------------------\u001b[0m",
      "\u001b[0;31mRuntimeError\u001b[0m                              Traceback (most recent call last)",
      "\u001b[0;32m<ipython-input-17-9d3046b5d0d4>\u001b[0m in \u001b[0;36m<module>\u001b[0;34m\u001b[0m\n\u001b[0;32m----> 1\u001b[0;31m \u001b[0mtrain\u001b[0m\u001b[0;34m(\u001b[0m\u001b[0mmodel\u001b[0m\u001b[0;34m)\u001b[0m\u001b[0;34m\u001b[0m\u001b[0m\n\u001b[0m",
      "\u001b[0;32m<ipython-input-15-5b79ee2dcd43>\u001b[0m in \u001b[0;36mtrain\u001b[0;34m(model, train_loader, val_loader, learning_rate, num_epoch)\u001b[0m\n\u001b[1;32m     23\u001b[0m             \u001b[0msample_2\u001b[0m \u001b[0;34m=\u001b[0m \u001b[0msample\u001b[0m\u001b[0;34m[\u001b[0m\u001b[0;34m'x2'\u001b[0m\u001b[0;34m]\u001b[0m\u001b[0;34m.\u001b[0m\u001b[0mto\u001b[0m\u001b[0;34m(\u001b[0m\u001b[0mdevice\u001b[0m\u001b[0;34m)\u001b[0m\u001b[0;34m\u001b[0m\u001b[0m\n\u001b[1;32m     24\u001b[0m             \u001b[0mlabels\u001b[0m \u001b[0;34m=\u001b[0m \u001b[0msample\u001b[0m\u001b[0;34m[\u001b[0m\u001b[0;34m'y'\u001b[0m\u001b[0;34m]\u001b[0m\u001b[0;34m.\u001b[0m\u001b[0mto\u001b[0m\u001b[0;34m(\u001b[0m\u001b[0mdevice\u001b[0m\u001b[0;34m)\u001b[0m\u001b[0;34m\u001b[0m\u001b[0m\n\u001b[0;32m---> 25\u001b[0;31m             \u001b[0moutputs\u001b[0m \u001b[0;34m=\u001b[0m \u001b[0mmodel\u001b[0m\u001b[0;34m(\u001b[0m\u001b[0msample_1\u001b[0m\u001b[0;34m,\u001b[0m\u001b[0msample_2\u001b[0m\u001b[0;34m)\u001b[0m\u001b[0;34m\u001b[0m\u001b[0m\n\u001b[0m\u001b[1;32m     26\u001b[0m             \u001b[0mpred\u001b[0m \u001b[0;34m=\u001b[0m \u001b[0moutputs\u001b[0m\u001b[0;34m.\u001b[0m\u001b[0mdata\u001b[0m\u001b[0;34m.\u001b[0m\u001b[0mmax\u001b[0m\u001b[0;34m(\u001b[0m\u001b[0;34m-\u001b[0m\u001b[0;36m1\u001b[0m\u001b[0;34m)\u001b[0m\u001b[0;34m[\u001b[0m\u001b[0;36m1\u001b[0m\u001b[0;34m]\u001b[0m\u001b[0;34m\u001b[0m\u001b[0m\n\u001b[1;32m     27\u001b[0m             \u001b[0mpredictions\u001b[0m \u001b[0;34m+=\u001b[0m \u001b[0mlist\u001b[0m\u001b[0;34m(\u001b[0m\u001b[0mpred\u001b[0m\u001b[0;34m.\u001b[0m\u001b[0mcpu\u001b[0m\u001b[0;34m(\u001b[0m\u001b[0;34m)\u001b[0m\u001b[0;34m.\u001b[0m\u001b[0mnumpy\u001b[0m\u001b[0;34m(\u001b[0m\u001b[0;34m)\u001b[0m\u001b[0;34m)\u001b[0m\u001b[0;34m\u001b[0m\u001b[0m\n",
      "\u001b[0;32m/scratch/cz2064/envs/dl4med/lib/python3.6/site-packages/torch/nn/modules/module.py\u001b[0m in \u001b[0;36m_call_impl\u001b[0;34m(self, *input, **kwargs)\u001b[0m\n\u001b[1;32m    725\u001b[0m             \u001b[0mresult\u001b[0m \u001b[0;34m=\u001b[0m \u001b[0mself\u001b[0m\u001b[0;34m.\u001b[0m\u001b[0m_slow_forward\u001b[0m\u001b[0;34m(\u001b[0m\u001b[0;34m*\u001b[0m\u001b[0minput\u001b[0m\u001b[0;34m,\u001b[0m \u001b[0;34m**\u001b[0m\u001b[0mkwargs\u001b[0m\u001b[0;34m)\u001b[0m\u001b[0;34m\u001b[0m\u001b[0m\n\u001b[1;32m    726\u001b[0m         \u001b[0;32melse\u001b[0m\u001b[0;34m:\u001b[0m\u001b[0;34m\u001b[0m\u001b[0m\n\u001b[0;32m--> 727\u001b[0;31m             \u001b[0mresult\u001b[0m \u001b[0;34m=\u001b[0m \u001b[0mself\u001b[0m\u001b[0;34m.\u001b[0m\u001b[0mforward\u001b[0m\u001b[0;34m(\u001b[0m\u001b[0;34m*\u001b[0m\u001b[0minput\u001b[0m\u001b[0;34m,\u001b[0m \u001b[0;34m**\u001b[0m\u001b[0mkwargs\u001b[0m\u001b[0;34m)\u001b[0m\u001b[0;34m\u001b[0m\u001b[0m\n\u001b[0m\u001b[1;32m    728\u001b[0m         for hook in itertools.chain(\n\u001b[1;32m    729\u001b[0m                 \u001b[0m_global_forward_hooks\u001b[0m\u001b[0;34m.\u001b[0m\u001b[0mvalues\u001b[0m\u001b[0;34m(\u001b[0m\u001b[0;34m)\u001b[0m\u001b[0;34m,\u001b[0m\u001b[0;34m\u001b[0m\u001b[0m\n",
      "\u001b[0;32m<ipython-input-5-34814748f02a>\u001b[0m in \u001b[0;36mforward\u001b[0;34m(self, x1, x2)\u001b[0m\n\u001b[1;32m     15\u001b[0m     \u001b[0;32mdef\u001b[0m \u001b[0mforward\u001b[0m\u001b[0;34m(\u001b[0m\u001b[0mself\u001b[0m\u001b[0;34m,\u001b[0m \u001b[0mx1\u001b[0m\u001b[0;34m,\u001b[0m \u001b[0mx2\u001b[0m\u001b[0;34m)\u001b[0m\u001b[0;34m:\u001b[0m\u001b[0;34m\u001b[0m\u001b[0m\n\u001b[1;32m     16\u001b[0m         \u001b[0mx1\u001b[0m \u001b[0;34m=\u001b[0m \u001b[0mself\u001b[0m\u001b[0;34m.\u001b[0m\u001b[0mcnn\u001b[0m\u001b[0;34m(\u001b[0m\u001b[0mx1\u001b[0m\u001b[0;34m)\u001b[0m\u001b[0;34m\u001b[0m\u001b[0m\n\u001b[0;32m---> 17\u001b[0;31m         \u001b[0mx2\u001b[0m \u001b[0;34m=\u001b[0m \u001b[0mself\u001b[0m\u001b[0;34m.\u001b[0m\u001b[0mcnn\u001b[0m\u001b[0;34m(\u001b[0m\u001b[0mx2\u001b[0m\u001b[0;34m)\u001b[0m\u001b[0;34m\u001b[0m\u001b[0m\n\u001b[0m\u001b[1;32m     18\u001b[0m \u001b[0;34m\u001b[0m\u001b[0m\n\u001b[1;32m     19\u001b[0m         \u001b[0mx_add\u001b[0m \u001b[0;34m=\u001b[0m \u001b[0mx1\u001b[0m\u001b[0;34m+\u001b[0m\u001b[0mx2\u001b[0m\u001b[0;34m\u001b[0m\u001b[0m\n",
      "\u001b[0;32m/scratch/cz2064/envs/dl4med/lib/python3.6/site-packages/torch/nn/modules/module.py\u001b[0m in \u001b[0;36m_call_impl\u001b[0;34m(self, *input, **kwargs)\u001b[0m\n\u001b[1;32m    725\u001b[0m             \u001b[0mresult\u001b[0m \u001b[0;34m=\u001b[0m \u001b[0mself\u001b[0m\u001b[0;34m.\u001b[0m\u001b[0m_slow_forward\u001b[0m\u001b[0;34m(\u001b[0m\u001b[0;34m*\u001b[0m\u001b[0minput\u001b[0m\u001b[0;34m,\u001b[0m \u001b[0;34m**\u001b[0m\u001b[0mkwargs\u001b[0m\u001b[0;34m)\u001b[0m\u001b[0;34m\u001b[0m\u001b[0m\n\u001b[1;32m    726\u001b[0m         \u001b[0;32melse\u001b[0m\u001b[0;34m:\u001b[0m\u001b[0;34m\u001b[0m\u001b[0m\n\u001b[0;32m--> 727\u001b[0;31m             \u001b[0mresult\u001b[0m \u001b[0;34m=\u001b[0m \u001b[0mself\u001b[0m\u001b[0;34m.\u001b[0m\u001b[0mforward\u001b[0m\u001b[0;34m(\u001b[0m\u001b[0;34m*\u001b[0m\u001b[0minput\u001b[0m\u001b[0;34m,\u001b[0m \u001b[0;34m**\u001b[0m\u001b[0mkwargs\u001b[0m\u001b[0;34m)\u001b[0m\u001b[0;34m\u001b[0m\u001b[0m\n\u001b[0m\u001b[1;32m    728\u001b[0m         for hook in itertools.chain(\n\u001b[1;32m    729\u001b[0m                 \u001b[0m_global_forward_hooks\u001b[0m\u001b[0;34m.\u001b[0m\u001b[0mvalues\u001b[0m\u001b[0;34m(\u001b[0m\u001b[0;34m)\u001b[0m\u001b[0;34m,\u001b[0m\u001b[0;34m\u001b[0m\u001b[0m\n",
      "\u001b[0;32m<ipython-input-3-96840f63d798>\u001b[0m in \u001b[0;36mforward\u001b[0;34m(self, x)\u001b[0m\n\u001b[1;32m    455\u001b[0m         \u001b[0mx\u001b[0m \u001b[0;34m=\u001b[0m \u001b[0mself\u001b[0m\u001b[0;34m.\u001b[0m\u001b[0mconv5c_2c\u001b[0m\u001b[0;34m(\u001b[0m\u001b[0mx\u001b[0m\u001b[0;34m)\u001b[0m\u001b[0;34m\u001b[0m\u001b[0m\n\u001b[1;32m    456\u001b[0m         \u001b[0mx\u001b[0m \u001b[0;34m=\u001b[0m \u001b[0mself\u001b[0m\u001b[0;34m.\u001b[0m\u001b[0mbn5c_2c\u001b[0m\u001b[0;34m(\u001b[0m\u001b[0mx\u001b[0m\u001b[0;34m)\u001b[0m\u001b[0;34m\u001b[0m\u001b[0m\n\u001b[0;32m--> 457\u001b[0;31m         \u001b[0mx\u001b[0m \u001b[0;34m=\u001b[0m \u001b[0mx\u001b[0m\u001b[0;34m[\u001b[0m\u001b[0;34m:\u001b[0m\u001b[0;34m,\u001b[0m\u001b[0;34m:\u001b[0m\u001b[0;34m,\u001b[0m\u001b[0;34m:\u001b[0m\u001b[0;34m-\u001b[0m\u001b[0;36m1\u001b[0m\u001b[0;34m]\u001b[0m \u001b[0;34m+\u001b[0m \u001b[0mres\u001b[0m\u001b[0;34m\u001b[0m\u001b[0m\n\u001b[0m\u001b[1;32m    458\u001b[0m         \u001b[0mx\u001b[0m \u001b[0;34m=\u001b[0m \u001b[0mself\u001b[0m\u001b[0;34m.\u001b[0m\u001b[0mactivation5c\u001b[0m\u001b[0;34m(\u001b[0m\u001b[0mx\u001b[0m\u001b[0;34m)\u001b[0m\u001b[0;34m\u001b[0m\u001b[0m\n\u001b[1;32m    459\u001b[0m \u001b[0;34m\u001b[0m\u001b[0m\n",
      "\u001b[0;31mRuntimeError\u001b[0m: CUDA out of memory. Tried to allocate 22.00 MiB (GPU 0; 22.38 GiB total capacity; 21.52 GiB already allocated; 13.56 MiB free; 21.74 GiB reserved in total by PyTorch)"
     ]
    }
   ],
   "source": [
    "train(model)"
   ]
  },
  {
   "cell_type": "code",
   "execution_count": null,
   "metadata": {
    "collapsed": true
   },
   "outputs": [],
   "source": []
  },
  {
   "cell_type": "code",
   "execution_count": null,
   "metadata": {
    "collapsed": true
   },
   "outputs": [],
   "source": []
  },
  {
   "cell_type": "code",
   "execution_count": null,
   "metadata": {
    "collapsed": true
   },
   "outputs": [],
   "source": []
  },
  {
   "cell_type": "markdown",
   "metadata": {},
   "source": [
    "## Evaluate"
   ]
  },
  {
   "cell_type": "code",
   "execution_count": 15,
   "metadata": {
    "collapsed": true
   },
   "outputs": [],
   "source": [
    "model = MyModel().to(device)"
   ]
  },
  {
   "cell_type": "code",
   "execution_count": 16,
   "metadata": {},
   "outputs": [
    {
     "data": {
      "text/plain": [
       "<All keys matched successfully>"
      ]
     },
     "execution_count": 16,
     "metadata": {},
     "output_type": "execute_result"
    }
   ],
   "source": [
    "model.load_state_dict(torch.load('/scratch/cz2064/myjupyter/Time_Series/notebook/python_files/\\\n",
    "Model_CNN_50/Second Train/checkpoint_CNN.pt',map_location=torch.device(device))['best_model_wts'])"
   ]
  },
  {
   "cell_type": "code",
   "execution_count": 17,
   "metadata": {
    "collapsed": true
   },
   "outputs": [],
   "source": [
    "test_df_path = '/scratch/cz2064/myjupyter/Time_Series/notebook/test.csv'\n",
    "test_loader = DataLoader(my_dataset(test_df_path), batch_size=1, shuffle=False)"
   ]
  },
  {
   "cell_type": "code",
   "execution_count": 18,
   "metadata": {
    "collapsed": true
   },
   "outputs": [],
   "source": [
    "def evaluate_model(model, dataloader):   \n",
    "    model.eval()\n",
    "    y_true = []\n",
    "    y_score = []\n",
    "    y_pre = []\n",
    "    \n",
    "    model.eval()\n",
    "    for i, (sample) in enumerate(dataloader):\n",
    "        sample_1 = sample['x1'].to(device)\n",
    "        sample_2 = sample['x2'].to(device)\n",
    "        label = sample['y'].to('cpu',dtype=torch.long)\n",
    "        y_true += label.tolist()\n",
    "\n",
    "        output = model(sample_1,sample_2)\n",
    "        output = F.softmax(output,dim=1)\n",
    "        output = output.to('cpu')\n",
    "        if y_score == []:\n",
    "            y_score = np.array(output.detach().numpy())\n",
    "        else:\n",
    "            y_score = np.concatenate((y_score,output.detach().numpy()),axis = 0)\n",
    "    for i in y_score:\n",
    "        y_pre.append(list(i).index(max(i)))\n",
    "    return y_true,y_pre,y_score"
   ]
  },
  {
   "cell_type": "code",
   "execution_count": 19,
   "metadata": {},
   "outputs": [
    {
     "name": "stderr",
     "output_type": "stream",
     "text": [
      "/scratch/cz2064/envs/dl4med/lib/python3.6/site-packages/ipykernel_launcher.py:17: DeprecationWarning: elementwise comparison failed; this will raise an error in the future.\n"
     ]
    }
   ],
   "source": [
    "y_true,y_pre,y_score = evaluate_model(model, test_loader)"
   ]
  },
  {
   "cell_type": "code",
   "execution_count": 20,
   "metadata": {
    "collapsed": true
   },
   "outputs": [],
   "source": [
    "test_df = pd.read_csv(test_df_path)\n",
    "test_df['pre'] = y_pre\n",
    "test_df['score'] = np.expand_dims(np.array(y_score),2)[:,1]"
   ]
  },
  {
   "cell_type": "code",
   "execution_count": 21,
   "metadata": {},
   "outputs": [
    {
     "data": {
      "text/html": [
       "<div>\n",
       "<style scoped>\n",
       "    .dataframe tbody tr th:only-of-type {\n",
       "        vertical-align: middle;\n",
       "    }\n",
       "\n",
       "    .dataframe tbody tr th {\n",
       "        vertical-align: top;\n",
       "    }\n",
       "\n",
       "    .dataframe thead th {\n",
       "        text-align: right;\n",
       "    }\n",
       "</style>\n",
       "<table border=\"1\" class=\"dataframe\">\n",
       "  <thead>\n",
       "    <tr style=\"text-align: right;\">\n",
       "      <th></th>\n",
       "      <th>True or False</th>\n",
       "      <th>sample 1</th>\n",
       "      <th>sample 2</th>\n",
       "      <th>pre</th>\n",
       "      <th>score</th>\n",
       "    </tr>\n",
       "  </thead>\n",
       "  <tbody>\n",
       "    <tr>\n",
       "      <th>0</th>\n",
       "      <td>1</td>\n",
       "      <td>id10270/x6uYqmx31kE/00001.wav</td>\n",
       "      <td>id10270/8jEAjG6SegY/00008.wav</td>\n",
       "      <td>1</td>\n",
       "      <td>0.825206</td>\n",
       "    </tr>\n",
       "    <tr>\n",
       "      <th>1</th>\n",
       "      <td>0</td>\n",
       "      <td>id10270/x6uYqmx31kE/00001.wav</td>\n",
       "      <td>id10300/ize_eiCFEg0/00003.wav</td>\n",
       "      <td>0</td>\n",
       "      <td>0.000263</td>\n",
       "    </tr>\n",
       "    <tr>\n",
       "      <th>2</th>\n",
       "      <td>1</td>\n",
       "      <td>id10270/x6uYqmx31kE/00001.wav</td>\n",
       "      <td>id10270/GWXujl-xAVM/00017.wav</td>\n",
       "      <td>1</td>\n",
       "      <td>0.902213</td>\n",
       "    </tr>\n",
       "    <tr>\n",
       "      <th>3</th>\n",
       "      <td>0</td>\n",
       "      <td>id10270/x6uYqmx31kE/00001.wav</td>\n",
       "      <td>id10273/0OCW1HUxZyg/00001.wav</td>\n",
       "      <td>0</td>\n",
       "      <td>0.011953</td>\n",
       "    </tr>\n",
       "    <tr>\n",
       "      <th>4</th>\n",
       "      <td>1</td>\n",
       "      <td>id10270/x6uYqmx31kE/00001.wav</td>\n",
       "      <td>id10270/8jEAjG6SegY/00022.wav</td>\n",
       "      <td>1</td>\n",
       "      <td>0.960014</td>\n",
       "    </tr>\n",
       "  </tbody>\n",
       "</table>\n",
       "</div>"
      ],
      "text/plain": [
       "   True or False                       sample 1  \\\n",
       "0              1  id10270/x6uYqmx31kE/00001.wav   \n",
       "1              0  id10270/x6uYqmx31kE/00001.wav   \n",
       "2              1  id10270/x6uYqmx31kE/00001.wav   \n",
       "3              0  id10270/x6uYqmx31kE/00001.wav   \n",
       "4              1  id10270/x6uYqmx31kE/00001.wav   \n",
       "\n",
       "                        sample 2  pre     score  \n",
       "0  id10270/8jEAjG6SegY/00008.wav    1  0.825206  \n",
       "1  id10300/ize_eiCFEg0/00003.wav    0  0.000263  \n",
       "2  id10270/GWXujl-xAVM/00017.wav    1  0.902213  \n",
       "3  id10273/0OCW1HUxZyg/00001.wav    0  0.011953  \n",
       "4  id10270/8jEAjG6SegY/00022.wav    1  0.960014  "
      ]
     },
     "execution_count": 21,
     "metadata": {},
     "output_type": "execute_result"
    }
   ],
   "source": [
    "test_df.head()"
   ]
  },
  {
   "cell_type": "code",
   "execution_count": 22,
   "metadata": {
    "collapsed": true
   },
   "outputs": [],
   "source": [
    "test_df.to_csv('Pre_ResNet_50.csv', index = False)"
   ]
  },
  {
   "cell_type": "code",
   "execution_count": null,
   "metadata": {
    "collapsed": true
   },
   "outputs": [],
   "source": []
  },
  {
   "cell_type": "code",
   "execution_count": null,
   "metadata": {
    "collapsed": true
   },
   "outputs": [],
   "source": []
  },
  {
   "cell_type": "code",
   "execution_count": 26,
   "metadata": {
    "collapsed": true
   },
   "outputs": [],
   "source": [
    "def ROC_curve(y_test,y_score):\n",
    "    fpr = dict()\n",
    "    tpr = dict()\n",
    "    roc_auc = dict()\n",
    "    n_classes = y_test.shape[1]\n",
    "    for i in range(n_classes):\n",
    "        fpr[i], tpr[i], _ = roc_curve(y_test[:, i], y_score[:, i])\n",
    "        roc_auc[i] = auc(fpr[i], tpr[i])\n",
    "\n",
    "    colors = cycle(['aqua', 'darkorange', 'cornflowerblue'])\n",
    "    lw = 2\n",
    "    for i, color in zip(range(n_classes), colors):\n",
    "        plt.plot(fpr[i], tpr[i], color=color, lw=lw,\n",
    "                 label='ROC curve of class {0} (area = {1:0.2f})'\n",
    "                 ''.format(i, roc_auc[i]))\n",
    "    plt.plot([0, 1], [0, 1], 'k--', lw=lw)\n",
    "    plt.xlim([0.0, 1.0])\n",
    "    plt.ylim([0.0, 1.05])\n",
    "    plt.xlabel('False Positive Rate')\n",
    "    plt.ylabel('True Positive Rate')\n",
    "    plt.title('Some extension of Receiver operating characteristic to multi-class')\n",
    "    plt.legend(loc=\"lower right\")\n",
    "    plt.show()\n",
    "    return None"
   ]
  },
  {
   "cell_type": "code",
   "execution_count": 27,
   "metadata": {},
   "outputs": [
    {
     "data": {
      "image/png": "[encoded data removed]",
      "text/plain": [
       "<Figure size 432x288 with 1 Axes>"
      ]
     },
     "metadata": {
      "needs_background": "light"
     },
     "output_type": "display_data"
    }
   ],
   "source": [
    "ROC_curve(np.expand_dims(np.array(y_true),1),np.expand_dims(np.array(y_score),2)[:,1])"
   ]
  },
  {
   "cell_type": "code",
   "execution_count": null,
   "metadata": {
    "collapsed": true
   },
   "outputs": [],
   "source": []
  }
 ],
 "metadata": {
  "kernelspec": {
   "display_name": "Python 3",
   "language": "python",
   "name": "python3"
  },
  "language_info": {
   "codemirror_mode": {
    "name": "ipython",
    "version": 3
   },
   "file_extension": ".py",
   "mimetype": "text/x-python",
   "name": "python",
   "nbconvert_exporter": "python",
   "pygments_lexer": "ipython3",
   "version": "3.6.6"
  }
 },
 "nbformat": 4,
 "nbformat_minor": 4
}
